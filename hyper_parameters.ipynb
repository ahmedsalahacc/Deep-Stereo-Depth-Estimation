{
 "cells": [
  {
   "cell_type": "code",
   "execution_count": 1,
   "metadata": {},
   "outputs": [],
   "source": [
    "from typing import Tuple, Union, List\n",
    "\n",
    "import numpy as np\n",
    "\n",
    "from numpy.typing import NDArray\n",
    "\n",
    "import torch\n",
    "\n",
    "from torch.optim import Adam\n",
    "\n",
    "from trainer import train\n",
    "\n",
    "\n",
    "def get_optimal_lr(\n",
    "    training_params,\n",
    "    lr_list: List[float],\n",
    ") -> Tuple[float, NDArray]:\n",
    "    \"\"\"\n",
    "    Runs experiments to determine the best learning rate for a given model and trainer.\n",
    "\n",
    "    Parameters:\n",
    "    training_params (dict): A dictionary containing the training parameters.\n",
    "                            It should include the model, the number of epochs,\n",
    "                            and placeholders for training and validation losses.\n",
    "    lr_list (List[float]): A list of learning rates to test.\n",
    "\n",
    "    Returns:\n",
    "    Tuple[np.ndarray, np.ndarray]: A tuple containing two numpy arrays.\n",
    "                                   The first array tracks the training loss for each learning rate and epoch.\n",
    "                                   The second array tracks the validation loss for each learning rate and epoch.\n",
    "    \"\"\"\n",
    "\n",
    "    # define loss tracker\n",
    "    epochs = training_params[\"epochs\"]\n",
    "    train_loss_tracker = np.zeros((len(lr_list), epochs)) + 1000.0\n",
    "    valid_loss_tracker = np.zeros((len(lr_list), epochs)) + 1000.0\n",
    "\n",
    "    for idx, lr in enumerate(lr_list):\n",
    "        training_params[\"training_losses\"] = train_loss_tracker[idx, :]\n",
    "        training_params[\"validation_losses\"] = valid_loss_tracker[idx, :]\n",
    "        training_params[\"model\"].initialize_weights()\n",
    "        training_params[\"optimizer\"] = Adam(\n",
    "            training_params[\"model\"].parameters(), lr=lr\n",
    "        )\n",
    "\n",
    "        train(**training_params)\n",
    "\n",
    "    return train_loss_tracker, valid_loss_tracker"
   ]
  },
  {
   "cell_type": "code",
   "execution_count": 2,
   "metadata": {},
   "outputs": [],
   "source": [
    "import utils\n",
    "\n",
    "dataset = utils.StereoDataset(\n",
    "    imgs_path=\"environment-walking\",\n",
    "    depth_path=\"environment-walking-depth\",\n",
    "    img_size=64\n",
    ")\n",
    "\n",
    "trainloader, validloader, testloader = utils.get_train_valid_test_loaders(\n",
    "    dataset, batchsize=16, split=(0.75, 0.1, 0.15)\n",
    ")"
   ]
  },
  {
   "cell_type": "code",
   "execution_count": 3,
   "metadata": {},
   "outputs": [],
   "source": [
    "SAMPLE_BATCHES = 3\n",
    "\n",
    "trainloaders = []\n",
    "validloaders = []\n",
    "testloaders = []\n",
    "\n",
    "for i in range(SAMPLE_BATCHES):\n",
    "    trainloaders.append(next(iter(trainloader)))\n",
    "    validloaders.append(next(iter(validloader)))\n",
    "    testloaders.append(next(iter(testloader)))"
   ]
  },
  {
   "cell_type": "code",
   "execution_count": 4,
   "metadata": {},
   "outputs": [],
   "source": [
    "from criterions import DepthLoss\n",
    "\n",
    "from models import DepthNet\n",
    "\n",
    "model = DepthNet(4, use_transpose_conv=True)\n",
    "criterion = DepthLoss()\n",
    "\n",
    "inputs = {\n",
    "    \"model\": model,\n",
    "    \"criterion\": criterion,\n",
    "    # \"optimizer\": optimizer,\n",
    "    \"trainloader\": trainloader,\n",
    "    \"validloader\": validloader,\n",
    "    \"epochs\": 20,\n",
    "    \"device\": \"cuda\",\n",
    "    \"verbose\":False,\n",
    "    # \"scheduler\": ReduceLROnPlateau(optimizer, patience=5, verbose=True),\n",
    "    # \"training_losses\": [],\n",
    "    # \"validation_losses\": [],\n",
    "    # \"pretrained_model\":\"best_model_log_mse.pth\"\n",
    "}"
   ]
  },
  {
   "cell_type": "code",
   "execution_count": 5,
   "metadata": {},
   "outputs": [
    {
     "name": "stdout",
     "output_type": "stream",
     "text": [
      "Training on cuda...\n"
     ]
    },
    {
     "name": "stderr",
     "output_type": "stream",
     "text": [
      "Training: 100%|██████████| 94/94 [00:48<00:00,  1.92it/s]\n",
      "Validating: 100%|██████████| 13/13 [00:05<00:00,  2.19it/s]\n"
     ]
    },
    {
     "name": "stdout",
     "output_type": "stream",
     "text": [
      "Epoch: 1/20.. Training Loss: 0.081876.. Validation Loss: 0.037501\n",
      "loss decreased from inf to 0.037501 -> saving best model.\n"
     ]
    },
    {
     "name": "stderr",
     "output_type": "stream",
     "text": [
      "Training: 100%|██████████| 94/94 [00:48<00:00,  1.94it/s]\n",
      "Validating: 100%|██████████| 13/13 [00:05<00:00,  2.20it/s]\n"
     ]
    },
    {
     "name": "stdout",
     "output_type": "stream",
     "text": [
      "Epoch: 2/20.. Training Loss: 0.035963.. Validation Loss: 0.044684\n"
     ]
    },
    {
     "name": "stderr",
     "output_type": "stream",
     "text": [
      "Training: 100%|██████████| 94/94 [00:48<00:00,  1.94it/s]\n",
      "Validating: 100%|██████████| 13/13 [00:06<00:00,  2.15it/s]\n"
     ]
    },
    {
     "name": "stdout",
     "output_type": "stream",
     "text": [
      "Epoch: 3/20.. Training Loss: 0.028298.. Validation Loss: 0.035228\n",
      "loss decreased from 0.037501 to 0.035228 -> saving best model.\n"
     ]
    },
    {
     "name": "stderr",
     "output_type": "stream",
     "text": [
      "Training: 100%|██████████| 94/94 [00:48<00:00,  1.95it/s]\n",
      "Validating: 100%|██████████| 13/13 [00:06<00:00,  2.06it/s]\n"
     ]
    },
    {
     "name": "stdout",
     "output_type": "stream",
     "text": [
      "Epoch: 4/20.. Training Loss: 0.026321.. Validation Loss: 0.038472\n"
     ]
    },
    {
     "name": "stderr",
     "output_type": "stream",
     "text": [
      "Training: 100%|██████████| 94/94 [00:49<00:00,  1.89it/s]\n",
      "Validating: 100%|██████████| 13/13 [00:07<00:00,  1.70it/s]\n"
     ]
    },
    {
     "name": "stdout",
     "output_type": "stream",
     "text": [
      "Epoch: 5/20.. Training Loss: 0.026739.. Validation Loss: 0.023490\n",
      "loss decreased from 0.035228 to 0.023490 -> saving best model.\n"
     ]
    },
    {
     "name": "stderr",
     "output_type": "stream",
     "text": [
      "Training: 100%|██████████| 94/94 [00:49<00:00,  1.90it/s]\n",
      "Validating: 100%|██████████| 13/13 [00:06<00:00,  2.05it/s]\n"
     ]
    },
    {
     "name": "stdout",
     "output_type": "stream",
     "text": [
      "Epoch: 6/20.. Training Loss: 0.023467.. Validation Loss: 0.033407\n"
     ]
    },
    {
     "name": "stderr",
     "output_type": "stream",
     "text": [
      "Training: 100%|██████████| 94/94 [00:48<00:00,  1.95it/s]\n",
      "Validating: 100%|██████████| 13/13 [00:05<00:00,  2.20it/s]\n"
     ]
    },
    {
     "name": "stdout",
     "output_type": "stream",
     "text": [
      "Epoch: 7/20.. Training Loss: 0.023045.. Validation Loss: 0.030232\n"
     ]
    },
    {
     "name": "stderr",
     "output_type": "stream",
     "text": [
      "Training: 100%|██████████| 94/94 [00:49<00:00,  1.91it/s]\n",
      "Validating: 100%|██████████| 13/13 [00:06<00:00,  2.07it/s]\n"
     ]
    },
    {
     "name": "stdout",
     "output_type": "stream",
     "text": [
      "Epoch: 8/20.. Training Loss: 0.019662.. Validation Loss: 0.022422\n",
      "loss decreased from 0.023490 to 0.022422 -> saving best model.\n"
     ]
    },
    {
     "name": "stderr",
     "output_type": "stream",
     "text": [
      "Training: 100%|██████████| 94/94 [00:48<00:00,  1.93it/s]\n",
      "Validating: 100%|██████████| 13/13 [00:06<00:00,  2.15it/s]\n"
     ]
    },
    {
     "name": "stdout",
     "output_type": "stream",
     "text": [
      "Epoch: 9/20.. Training Loss: 0.021258.. Validation Loss: 0.037442\n"
     ]
    },
    {
     "name": "stderr",
     "output_type": "stream",
     "text": [
      "Training: 100%|██████████| 94/94 [00:48<00:00,  1.94it/s]\n",
      "Validating: 100%|██████████| 13/13 [00:06<00:00,  2.09it/s]\n"
     ]
    },
    {
     "name": "stdout",
     "output_type": "stream",
     "text": [
      "Epoch: 10/20.. Training Loss: 0.020815.. Validation Loss: 0.025881\n"
     ]
    },
    {
     "name": "stderr",
     "output_type": "stream",
     "text": [
      "Training: 100%|██████████| 94/94 [00:48<00:00,  1.92it/s]\n",
      "Validating: 100%|██████████| 13/13 [00:06<00:00,  2.12it/s]\n"
     ]
    },
    {
     "name": "stdout",
     "output_type": "stream",
     "text": [
      "Epoch: 11/20.. Training Loss: 0.018662.. Validation Loss: 0.018111\n",
      "loss decreased from 0.022422 to 0.018111 -> saving best model.\n"
     ]
    },
    {
     "name": "stderr",
     "output_type": "stream",
     "text": [
      "Training: 100%|██████████| 94/94 [00:47<00:00,  1.96it/s]\n",
      "Validating: 100%|██████████| 13/13 [00:06<00:00,  2.11it/s]\n"
     ]
    },
    {
     "name": "stdout",
     "output_type": "stream",
     "text": [
      "Epoch: 12/20.. Training Loss: 0.018187.. Validation Loss: 0.020004\n"
     ]
    },
    {
     "name": "stderr",
     "output_type": "stream",
     "text": [
      "Training: 100%|██████████| 94/94 [00:48<00:00,  1.95it/s]\n",
      "Validating: 100%|██████████| 13/13 [00:06<00:00,  1.97it/s]\n"
     ]
    },
    {
     "name": "stdout",
     "output_type": "stream",
     "text": [
      "Epoch: 13/20.. Training Loss: 0.017839.. Validation Loss: 0.018339\n"
     ]
    },
    {
     "name": "stderr",
     "output_type": "stream",
     "text": [
      "Training: 100%|██████████| 94/94 [00:49<00:00,  1.88it/s]\n",
      "Validating: 100%|██████████| 13/13 [00:06<00:00,  2.11it/s]\n"
     ]
    },
    {
     "name": "stdout",
     "output_type": "stream",
     "text": [
      "Epoch: 14/20.. Training Loss: 0.017079.. Validation Loss: 0.021014\n"
     ]
    },
    {
     "name": "stderr",
     "output_type": "stream",
     "text": [
      "Training: 100%|██████████| 94/94 [00:49<00:00,  1.89it/s]\n",
      "Validating: 100%|██████████| 13/13 [00:06<00:00,  2.09it/s]\n"
     ]
    },
    {
     "name": "stdout",
     "output_type": "stream",
     "text": [
      "Epoch: 15/20.. Training Loss: 0.016748.. Validation Loss: 0.019235\n"
     ]
    },
    {
     "name": "stderr",
     "output_type": "stream",
     "text": [
      "Training: 100%|██████████| 94/94 [00:51<00:00,  1.84it/s]\n",
      "Validating: 100%|██████████| 13/13 [00:06<00:00,  1.98it/s]\n"
     ]
    },
    {
     "name": "stdout",
     "output_type": "stream",
     "text": [
      "Epoch: 16/20.. Training Loss: 0.016698.. Validation Loss: 0.020969\n"
     ]
    },
    {
     "name": "stderr",
     "output_type": "stream",
     "text": [
      "Training: 100%|██████████| 94/94 [00:49<00:00,  1.91it/s]\n",
      "Validating: 100%|██████████| 13/13 [00:06<00:00,  2.08it/s]\n"
     ]
    },
    {
     "name": "stdout",
     "output_type": "stream",
     "text": [
      "Epoch: 17/20.. Training Loss: 0.016365.. Validation Loss: 0.018023\n",
      "loss decreased from 0.018111 to 0.018023 -> saving best model.\n"
     ]
    },
    {
     "name": "stderr",
     "output_type": "stream",
     "text": [
      "Training: 100%|██████████| 94/94 [00:50<00:00,  1.85it/s]\n",
      "Validating: 100%|██████████| 13/13 [00:06<00:00,  1.99it/s]\n"
     ]
    },
    {
     "name": "stdout",
     "output_type": "stream",
     "text": [
      "Epoch: 18/20.. Training Loss: 0.017801.. Validation Loss: 0.018397\n"
     ]
    },
    {
     "name": "stderr",
     "output_type": "stream",
     "text": [
      "Training: 100%|██████████| 94/94 [00:52<00:00,  1.78it/s]\n",
      "Validating: 100%|██████████| 13/13 [00:15<00:00,  1.17s/it]\n"
     ]
    },
    {
     "name": "stdout",
     "output_type": "stream",
     "text": [
      "Epoch: 19/20.. Training Loss: 0.016291.. Validation Loss: 0.015418\n",
      "loss decreased from 0.018023 to 0.015418 -> saving best model.\n"
     ]
    },
    {
     "name": "stderr",
     "output_type": "stream",
     "text": [
      "Training: 100%|██████████| 94/94 [00:50<00:00,  1.85it/s]\n",
      "Validating: 100%|██████████| 13/13 [00:06<00:00,  2.04it/s]\n"
     ]
    },
    {
     "name": "stdout",
     "output_type": "stream",
     "text": [
      "Epoch: 20/20.. Training Loss: 0.015842.. Validation Loss: 0.020481\n",
      "Training on cuda...\n"
     ]
    },
    {
     "name": "stderr",
     "output_type": "stream",
     "text": [
      "Training: 100%|██████████| 94/94 [00:48<00:00,  1.94it/s]\n",
      "Validating: 100%|██████████| 13/13 [00:06<00:00,  2.09it/s]\n"
     ]
    },
    {
     "name": "stdout",
     "output_type": "stream",
     "text": [
      "Epoch: 1/20.. Training Loss: 0.080433.. Validation Loss: 0.026539\n",
      "loss decreased from inf to 0.026539 -> saving best model.\n"
     ]
    },
    {
     "name": "stderr",
     "output_type": "stream",
     "text": [
      "Training: 100%|██████████| 94/94 [00:49<00:00,  1.90it/s]\n",
      "Validating: 100%|██████████| 13/13 [00:05<00:00,  2.25it/s]\n"
     ]
    },
    {
     "name": "stdout",
     "output_type": "stream",
     "text": [
      "Epoch: 2/20.. Training Loss: 0.030458.. Validation Loss: 0.032180\n"
     ]
    },
    {
     "name": "stderr",
     "output_type": "stream",
     "text": [
      "Training: 100%|██████████| 94/94 [00:48<00:00,  1.96it/s]\n",
      "Validating: 100%|██████████| 13/13 [00:06<00:00,  2.08it/s]\n"
     ]
    },
    {
     "name": "stdout",
     "output_type": "stream",
     "text": [
      "Epoch: 3/20.. Training Loss: 0.031738.. Validation Loss: 0.043903\n"
     ]
    },
    {
     "name": "stderr",
     "output_type": "stream",
     "text": [
      "Training: 100%|██████████| 94/94 [00:47<00:00,  1.96it/s]\n",
      "Validating: 100%|██████████| 13/13 [00:06<00:00,  2.02it/s]\n"
     ]
    },
    {
     "name": "stdout",
     "output_type": "stream",
     "text": [
      "Epoch: 4/20.. Training Loss: 0.025077.. Validation Loss: 0.031087\n"
     ]
    },
    {
     "name": "stderr",
     "output_type": "stream",
     "text": [
      "Training: 100%|██████████| 94/94 [00:46<00:00,  2.02it/s]\n",
      "Validating: 100%|██████████| 13/13 [00:05<00:00,  2.21it/s]\n"
     ]
    },
    {
     "name": "stdout",
     "output_type": "stream",
     "text": [
      "Epoch: 5/20.. Training Loss: 0.021539.. Validation Loss: 0.027590\n"
     ]
    },
    {
     "name": "stderr",
     "output_type": "stream",
     "text": [
      "Training: 100%|██████████| 94/94 [00:47<00:00,  2.00it/s]\n",
      "Validating: 100%|██████████| 13/13 [00:06<00:00,  2.00it/s]\n"
     ]
    },
    {
     "name": "stdout",
     "output_type": "stream",
     "text": [
      "Epoch: 6/20.. Training Loss: 0.020480.. Validation Loss: 0.016768\n",
      "loss decreased from 0.026539 to 0.016768 -> saving best model.\n"
     ]
    },
    {
     "name": "stderr",
     "output_type": "stream",
     "text": [
      "Training: 100%|██████████| 94/94 [00:47<00:00,  1.99it/s]\n",
      "Validating: 100%|██████████| 13/13 [00:06<00:00,  2.13it/s]\n"
     ]
    },
    {
     "name": "stdout",
     "output_type": "stream",
     "text": [
      "Epoch: 7/20.. Training Loss: 0.023862.. Validation Loss: 0.020956\n"
     ]
    },
    {
     "name": "stderr",
     "output_type": "stream",
     "text": [
      "Training: 100%|██████████| 94/94 [00:47<00:00,  1.97it/s]\n",
      "Validating: 100%|██████████| 13/13 [00:05<00:00,  2.28it/s]\n"
     ]
    },
    {
     "name": "stdout",
     "output_type": "stream",
     "text": [
      "Epoch: 8/20.. Training Loss: 0.019153.. Validation Loss: 0.023775\n"
     ]
    },
    {
     "name": "stderr",
     "output_type": "stream",
     "text": [
      "Training: 100%|██████████| 94/94 [00:48<00:00,  1.95it/s]\n",
      "Validating: 100%|██████████| 13/13 [00:06<00:00,  1.94it/s]\n"
     ]
    },
    {
     "name": "stdout",
     "output_type": "stream",
     "text": [
      "Epoch: 9/20.. Training Loss: 0.020519.. Validation Loss: 0.021911\n"
     ]
    },
    {
     "name": "stderr",
     "output_type": "stream",
     "text": [
      "Training: 100%|██████████| 94/94 [00:46<00:00,  2.02it/s]\n",
      "Validating: 100%|██████████| 13/13 [00:06<00:00,  2.16it/s]\n"
     ]
    },
    {
     "name": "stdout",
     "output_type": "stream",
     "text": [
      "Epoch: 10/20.. Training Loss: 0.017820.. Validation Loss: 0.029090\n"
     ]
    },
    {
     "name": "stderr",
     "output_type": "stream",
     "text": [
      "Training: 100%|██████████| 94/94 [00:47<00:00,  1.99it/s]\n",
      "Validating: 100%|██████████| 13/13 [00:05<00:00,  2.19it/s]\n"
     ]
    },
    {
     "name": "stdout",
     "output_type": "stream",
     "text": [
      "Epoch: 11/20.. Training Loss: 0.016628.. Validation Loss: 0.013675\n",
      "loss decreased from 0.016768 to 0.013675 -> saving best model.\n"
     ]
    },
    {
     "name": "stderr",
     "output_type": "stream",
     "text": [
      "Training: 100%|██████████| 94/94 [00:46<00:00,  2.02it/s]\n",
      "Validating: 100%|██████████| 13/13 [00:06<00:00,  2.12it/s]\n"
     ]
    },
    {
     "name": "stdout",
     "output_type": "stream",
     "text": [
      "Epoch: 12/20.. Training Loss: 0.017599.. Validation Loss: 0.019932\n"
     ]
    },
    {
     "name": "stderr",
     "output_type": "stream",
     "text": [
      "Training: 100%|██████████| 94/94 [00:46<00:00,  2.01it/s]\n",
      "Validating: 100%|██████████| 13/13 [00:06<00:00,  2.08it/s]\n"
     ]
    },
    {
     "name": "stdout",
     "output_type": "stream",
     "text": [
      "Epoch: 13/20.. Training Loss: 0.014989.. Validation Loss: 0.019026\n"
     ]
    },
    {
     "name": "stderr",
     "output_type": "stream",
     "text": [
      "Training: 100%|██████████| 94/94 [00:46<00:00,  2.00it/s]\n",
      "Validating: 100%|██████████| 13/13 [00:06<00:00,  2.17it/s]\n"
     ]
    },
    {
     "name": "stdout",
     "output_type": "stream",
     "text": [
      "Epoch: 14/20.. Training Loss: 0.018091.. Validation Loss: 0.019414\n"
     ]
    },
    {
     "name": "stderr",
     "output_type": "stream",
     "text": [
      "Training: 100%|██████████| 94/94 [00:47<00:00,  2.00it/s]\n",
      "Validating: 100%|██████████| 13/13 [00:06<00:00,  2.05it/s]\n"
     ]
    },
    {
     "name": "stdout",
     "output_type": "stream",
     "text": [
      "Epoch: 15/20.. Training Loss: 0.015650.. Validation Loss: 0.025134\n"
     ]
    },
    {
     "name": "stderr",
     "output_type": "stream",
     "text": [
      "Training: 100%|██████████| 94/94 [00:46<00:00,  2.01it/s]\n",
      "Validating: 100%|██████████| 13/13 [00:05<00:00,  2.18it/s]\n"
     ]
    },
    {
     "name": "stdout",
     "output_type": "stream",
     "text": [
      "Epoch: 16/20.. Training Loss: 0.016662.. Validation Loss: 0.015999\n"
     ]
    },
    {
     "name": "stderr",
     "output_type": "stream",
     "text": [
      "Training: 100%|██████████| 94/94 [00:47<00:00,  1.99it/s]\n",
      "Validating: 100%|██████████| 13/13 [00:05<00:00,  2.24it/s]\n"
     ]
    },
    {
     "name": "stdout",
     "output_type": "stream",
     "text": [
      "Epoch: 17/20.. Training Loss: 0.014611.. Validation Loss: 0.015012\n"
     ]
    },
    {
     "name": "stderr",
     "output_type": "stream",
     "text": [
      "Training: 100%|██████████| 94/94 [00:46<00:00,  2.02it/s]\n",
      "Validating: 100%|██████████| 13/13 [00:06<00:00,  2.04it/s]\n"
     ]
    },
    {
     "name": "stdout",
     "output_type": "stream",
     "text": [
      "Epoch: 18/20.. Training Loss: 0.014392.. Validation Loss: 0.012430\n",
      "loss decreased from 0.013675 to 0.012430 -> saving best model.\n"
     ]
    },
    {
     "name": "stderr",
     "output_type": "stream",
     "text": [
      "Training: 100%|██████████| 94/94 [00:46<00:00,  2.00it/s]\n",
      "Validating: 100%|██████████| 13/13 [00:06<00:00,  2.00it/s]\n"
     ]
    },
    {
     "name": "stdout",
     "output_type": "stream",
     "text": [
      "Epoch: 19/20.. Training Loss: 0.013412.. Validation Loss: 0.010797\n",
      "loss decreased from 0.012430 to 0.010797 -> saving best model.\n"
     ]
    },
    {
     "name": "stderr",
     "output_type": "stream",
     "text": [
      "Training: 100%|██████████| 94/94 [00:47<00:00,  1.99it/s]\n",
      "Validating: 100%|██████████| 13/13 [00:06<00:00,  2.02it/s]\n"
     ]
    },
    {
     "name": "stdout",
     "output_type": "stream",
     "text": [
      "Epoch: 20/20.. Training Loss: 0.014175.. Validation Loss: 0.017942\n",
      "Training on cuda...\n"
     ]
    },
    {
     "name": "stderr",
     "output_type": "stream",
     "text": [
      "Training: 100%|██████████| 94/94 [00:46<00:00,  2.02it/s]\n",
      "Validating: 100%|██████████| 13/13 [00:06<00:00,  2.09it/s]\n"
     ]
    },
    {
     "name": "stdout",
     "output_type": "stream",
     "text": [
      "Epoch: 1/20.. Training Loss: 0.273887.. Validation Loss: 0.064484\n",
      "loss decreased from inf to 0.064484 -> saving best model.\n"
     ]
    },
    {
     "name": "stderr",
     "output_type": "stream",
     "text": [
      "Training: 100%|██████████| 94/94 [00:47<00:00,  1.99it/s]\n",
      "Validating: 100%|██████████| 13/13 [00:05<00:00,  2.29it/s]\n"
     ]
    },
    {
     "name": "stdout",
     "output_type": "stream",
     "text": [
      "Epoch: 2/20.. Training Loss: 0.065314.. Validation Loss: 0.048047\n",
      "loss decreased from 0.064484 to 0.048047 -> saving best model.\n"
     ]
    },
    {
     "name": "stderr",
     "output_type": "stream",
     "text": [
      "Training: 100%|██████████| 94/94 [00:48<00:00,  1.96it/s]\n",
      "Validating: 100%|██████████| 13/13 [00:05<00:00,  2.18it/s]\n"
     ]
    },
    {
     "name": "stdout",
     "output_type": "stream",
     "text": [
      "Epoch: 3/20.. Training Loss: 0.065605.. Validation Loss: 0.055563\n"
     ]
    },
    {
     "name": "stderr",
     "output_type": "stream",
     "text": [
      "Training: 100%|██████████| 94/94 [00:47<00:00,  1.98it/s]\n",
      "Validating: 100%|██████████| 13/13 [00:06<00:00,  2.10it/s]\n"
     ]
    },
    {
     "name": "stdout",
     "output_type": "stream",
     "text": [
      "Epoch: 4/20.. Training Loss: 0.058104.. Validation Loss: 0.055407\n"
     ]
    },
    {
     "name": "stderr",
     "output_type": "stream",
     "text": [
      "Training: 100%|██████████| 94/94 [00:47<00:00,  2.00it/s]\n",
      "Validating: 100%|██████████| 13/13 [00:05<00:00,  2.26it/s]\n"
     ]
    },
    {
     "name": "stdout",
     "output_type": "stream",
     "text": [
      "Epoch: 5/20.. Training Loss: 0.059070.. Validation Loss: 0.047296\n",
      "loss decreased from 0.048047 to 0.047296 -> saving best model.\n"
     ]
    },
    {
     "name": "stderr",
     "output_type": "stream",
     "text": [
      "Training: 100%|██████████| 94/94 [00:47<00:00,  1.98it/s]\n",
      "Validating: 100%|██████████| 13/13 [00:05<00:00,  2.23it/s]\n"
     ]
    },
    {
     "name": "stdout",
     "output_type": "stream",
     "text": [
      "Epoch: 6/20.. Training Loss: 0.052780.. Validation Loss: 0.046669\n",
      "loss decreased from 0.047296 to 0.046669 -> saving best model.\n"
     ]
    },
    {
     "name": "stderr",
     "output_type": "stream",
     "text": [
      "Training: 100%|██████████| 94/94 [00:46<00:00,  2.02it/s]\n",
      "Validating: 100%|██████████| 13/13 [00:06<00:00,  2.14it/s]\n"
     ]
    },
    {
     "name": "stdout",
     "output_type": "stream",
     "text": [
      "Epoch: 7/20.. Training Loss: 0.053905.. Validation Loss: 0.044706\n",
      "loss decreased from 0.046669 to 0.044706 -> saving best model.\n"
     ]
    },
    {
     "name": "stderr",
     "output_type": "stream",
     "text": [
      "Training: 100%|██████████| 94/94 [00:47<00:00,  1.99it/s]\n",
      "Validating: 100%|██████████| 13/13 [00:05<00:00,  2.28it/s]\n"
     ]
    },
    {
     "name": "stdout",
     "output_type": "stream",
     "text": [
      "Epoch: 8/20.. Training Loss: 0.033724.. Validation Loss: 0.026947\n",
      "loss decreased from 0.044706 to 0.026947 -> saving best model.\n"
     ]
    },
    {
     "name": "stderr",
     "output_type": "stream",
     "text": [
      "Training: 100%|██████████| 94/94 [00:46<00:00,  2.02it/s]\n",
      "Validating: 100%|██████████| 13/13 [00:06<00:00,  2.10it/s]\n"
     ]
    },
    {
     "name": "stdout",
     "output_type": "stream",
     "text": [
      "Epoch: 9/20.. Training Loss: 0.027001.. Validation Loss: 0.041758\n"
     ]
    },
    {
     "name": "stderr",
     "output_type": "stream",
     "text": [
      "Training: 100%|██████████| 94/94 [00:46<00:00,  2.03it/s]\n",
      "Validating: 100%|██████████| 13/13 [00:05<00:00,  2.21it/s]\n"
     ]
    },
    {
     "name": "stdout",
     "output_type": "stream",
     "text": [
      "Epoch: 10/20.. Training Loss: 0.022733.. Validation Loss: 0.039093\n"
     ]
    },
    {
     "name": "stderr",
     "output_type": "stream",
     "text": [
      "Training: 100%|██████████| 94/94 [00:45<00:00,  2.06it/s]\n",
      "Validating: 100%|██████████| 13/13 [00:05<00:00,  2.22it/s]\n"
     ]
    },
    {
     "name": "stdout",
     "output_type": "stream",
     "text": [
      "Epoch: 11/20.. Training Loss: 0.022541.. Validation Loss: 0.019072\n",
      "loss decreased from 0.026947 to 0.019072 -> saving best model.\n"
     ]
    },
    {
     "name": "stderr",
     "output_type": "stream",
     "text": [
      "Training: 100%|██████████| 94/94 [00:46<00:00,  2.02it/s]\n",
      "Validating: 100%|██████████| 13/13 [00:05<00:00,  2.28it/s]\n"
     ]
    },
    {
     "name": "stdout",
     "output_type": "stream",
     "text": [
      "Epoch: 12/20.. Training Loss: 0.021464.. Validation Loss: 0.112776\n"
     ]
    },
    {
     "name": "stderr",
     "output_type": "stream",
     "text": [
      "Training: 100%|██████████| 94/94 [00:45<00:00,  2.06it/s]\n",
      "Validating: 100%|██████████| 13/13 [00:05<00:00,  2.27it/s]\n"
     ]
    },
    {
     "name": "stdout",
     "output_type": "stream",
     "text": [
      "Epoch: 13/20.. Training Loss: 0.021857.. Validation Loss: 0.026415\n"
     ]
    },
    {
     "name": "stderr",
     "output_type": "stream",
     "text": [
      "Training: 100%|██████████| 94/94 [00:45<00:00,  2.07it/s]\n",
      "Validating: 100%|██████████| 13/13 [00:05<00:00,  2.23it/s]\n"
     ]
    },
    {
     "name": "stdout",
     "output_type": "stream",
     "text": [
      "Epoch: 14/20.. Training Loss: 0.019101.. Validation Loss: 0.034132\n"
     ]
    },
    {
     "name": "stderr",
     "output_type": "stream",
     "text": [
      "Training: 100%|██████████| 94/94 [00:45<00:00,  2.07it/s]\n",
      "Validating: 100%|██████████| 13/13 [00:05<00:00,  2.27it/s]\n"
     ]
    },
    {
     "name": "stdout",
     "output_type": "stream",
     "text": [
      "Epoch: 15/20.. Training Loss: 0.019569.. Validation Loss: 0.030585\n"
     ]
    },
    {
     "name": "stderr",
     "output_type": "stream",
     "text": [
      "Training: 100%|██████████| 94/94 [00:45<00:00,  2.08it/s]\n",
      "Validating: 100%|██████████| 13/13 [00:05<00:00,  2.17it/s]\n"
     ]
    },
    {
     "name": "stdout",
     "output_type": "stream",
     "text": [
      "Epoch: 16/20.. Training Loss: 0.017374.. Validation Loss: 0.012342\n",
      "loss decreased from 0.019072 to 0.012342 -> saving best model.\n"
     ]
    },
    {
     "name": "stderr",
     "output_type": "stream",
     "text": [
      "Training: 100%|██████████| 94/94 [00:45<00:00,  2.08it/s]\n",
      "Validating: 100%|██████████| 13/13 [00:05<00:00,  2.25it/s]\n"
     ]
    },
    {
     "name": "stdout",
     "output_type": "stream",
     "text": [
      "Epoch: 17/20.. Training Loss: 0.015619.. Validation Loss: 0.013095\n"
     ]
    },
    {
     "name": "stderr",
     "output_type": "stream",
     "text": [
      "Training: 100%|██████████| 94/94 [00:45<00:00,  2.08it/s]\n",
      "Validating: 100%|██████████| 13/13 [00:05<00:00,  2.22it/s]\n"
     ]
    },
    {
     "name": "stdout",
     "output_type": "stream",
     "text": [
      "Epoch: 18/20.. Training Loss: 0.019185.. Validation Loss: 0.012716\n"
     ]
    },
    {
     "name": "stderr",
     "output_type": "stream",
     "text": [
      "Training: 100%|██████████| 94/94 [00:45<00:00,  2.08it/s]\n",
      "Validating: 100%|██████████| 13/13 [00:05<00:00,  2.34it/s]\n"
     ]
    },
    {
     "name": "stdout",
     "output_type": "stream",
     "text": [
      "Epoch: 19/20.. Training Loss: 0.018605.. Validation Loss: 0.021738\n"
     ]
    },
    {
     "name": "stderr",
     "output_type": "stream",
     "text": [
      "Training: 100%|██████████| 94/94 [00:45<00:00,  2.06it/s]\n",
      "Validating: 100%|██████████| 13/13 [00:05<00:00,  2.29it/s]\n"
     ]
    },
    {
     "name": "stdout",
     "output_type": "stream",
     "text": [
      "Epoch: 20/20.. Training Loss: 0.015644.. Validation Loss: 0.016112\n",
      "Training on cuda...\n"
     ]
    },
    {
     "name": "stderr",
     "output_type": "stream",
     "text": [
      "Training: 100%|██████████| 94/94 [00:44<00:00,  2.10it/s]\n",
      "Validating: 100%|██████████| 13/13 [00:05<00:00,  2.25it/s]\n"
     ]
    },
    {
     "name": "stdout",
     "output_type": "stream",
     "text": [
      "Epoch: 1/20.. Training Loss: 0.250657.. Validation Loss: 0.122840\n",
      "loss decreased from inf to 0.122840 -> saving best model.\n"
     ]
    },
    {
     "name": "stderr",
     "output_type": "stream",
     "text": [
      "Training: 100%|██████████| 94/94 [00:45<00:00,  2.07it/s]\n",
      "Validating: 100%|██████████| 13/13 [00:05<00:00,  2.34it/s]\n"
     ]
    },
    {
     "name": "stdout",
     "output_type": "stream",
     "text": [
      "Epoch: 2/20.. Training Loss: 0.092778.. Validation Loss: 0.073783\n",
      "loss decreased from 0.122840 to 0.073783 -> saving best model.\n"
     ]
    },
    {
     "name": "stderr",
     "output_type": "stream",
     "text": [
      "Training: 100%|██████████| 94/94 [00:46<00:00,  2.01it/s]\n",
      "Validating: 100%|██████████| 13/13 [00:06<00:00,  2.02it/s]\n"
     ]
    },
    {
     "name": "stdout",
     "output_type": "stream",
     "text": [
      "Epoch: 3/20.. Training Loss: 0.092820.. Validation Loss: 0.094530\n"
     ]
    },
    {
     "name": "stderr",
     "output_type": "stream",
     "text": [
      "Training: 100%|██████████| 94/94 [00:45<00:00,  2.06it/s]\n",
      "Validating: 100%|██████████| 13/13 [00:05<00:00,  2.35it/s]\n"
     ]
    },
    {
     "name": "stdout",
     "output_type": "stream",
     "text": [
      "Epoch: 4/20.. Training Loss: 0.075301.. Validation Loss: 0.065614\n",
      "loss decreased from 0.073783 to 0.065614 -> saving best model.\n"
     ]
    },
    {
     "name": "stderr",
     "output_type": "stream",
     "text": [
      "Training: 100%|██████████| 94/94 [00:45<00:00,  2.06it/s]\n",
      "Validating: 100%|██████████| 13/13 [00:05<00:00,  2.26it/s]\n"
     ]
    },
    {
     "name": "stdout",
     "output_type": "stream",
     "text": [
      "Epoch: 5/20.. Training Loss: 0.072899.. Validation Loss: 0.078724\n"
     ]
    },
    {
     "name": "stderr",
     "output_type": "stream",
     "text": [
      "Training: 100%|██████████| 94/94 [00:45<00:00,  2.08it/s]\n",
      "Validating: 100%|██████████| 13/13 [00:05<00:00,  2.30it/s]\n"
     ]
    },
    {
     "name": "stdout",
     "output_type": "stream",
     "text": [
      "Epoch: 6/20.. Training Loss: 0.073541.. Validation Loss: 0.057427\n",
      "loss decreased from 0.065614 to 0.057427 -> saving best model.\n"
     ]
    },
    {
     "name": "stderr",
     "output_type": "stream",
     "text": [
      "Training: 100%|██████████| 94/94 [00:45<00:00,  2.07it/s]\n",
      "Validating: 100%|██████████| 13/13 [00:06<00:00,  2.15it/s]\n"
     ]
    },
    {
     "name": "stdout",
     "output_type": "stream",
     "text": [
      "Epoch: 7/20.. Training Loss: 0.071255.. Validation Loss: 0.077317\n"
     ]
    },
    {
     "name": "stderr",
     "output_type": "stream",
     "text": [
      "Training: 100%|██████████| 94/94 [00:46<00:00,  2.02it/s]\n",
      "Validating: 100%|██████████| 13/13 [00:06<00:00,  2.15it/s]\n"
     ]
    },
    {
     "name": "stdout",
     "output_type": "stream",
     "text": [
      "Epoch: 8/20.. Training Loss: 0.071271.. Validation Loss: 0.053511\n",
      "loss decreased from 0.057427 to 0.053511 -> saving best model.\n"
     ]
    },
    {
     "name": "stderr",
     "output_type": "stream",
     "text": [
      "Training: 100%|██████████| 94/94 [00:46<00:00,  2.01it/s]\n",
      "Validating: 100%|██████████| 13/13 [00:05<00:00,  2.24it/s]\n"
     ]
    },
    {
     "name": "stdout",
     "output_type": "stream",
     "text": [
      "Epoch: 9/20.. Training Loss: 0.066493.. Validation Loss: 0.062900\n"
     ]
    },
    {
     "name": "stderr",
     "output_type": "stream",
     "text": [
      "Training: 100%|██████████| 94/94 [00:51<00:00,  1.83it/s]\n",
      "Validating: 100%|██████████| 13/13 [00:06<00:00,  2.13it/s]\n"
     ]
    },
    {
     "name": "stdout",
     "output_type": "stream",
     "text": [
      "Epoch: 10/20.. Training Loss: 0.069839.. Validation Loss: 0.116303\n"
     ]
    },
    {
     "name": "stderr",
     "output_type": "stream",
     "text": [
      "Training: 100%|██████████| 94/94 [00:52<00:00,  1.79it/s]\n",
      "Validating: 100%|██████████| 13/13 [00:07<00:00,  1.74it/s]\n"
     ]
    },
    {
     "name": "stdout",
     "output_type": "stream",
     "text": [
      "Epoch: 11/20.. Training Loss: 0.073742.. Validation Loss: 0.073436\n"
     ]
    },
    {
     "name": "stderr",
     "output_type": "stream",
     "text": [
      "Training: 100%|██████████| 94/94 [00:48<00:00,  1.95it/s]\n",
      "Validating: 100%|██████████| 13/13 [00:06<00:00,  2.15it/s]\n"
     ]
    },
    {
     "name": "stdout",
     "output_type": "stream",
     "text": [
      "Epoch: 12/20.. Training Loss: 0.068042.. Validation Loss: 0.048964\n",
      "loss decreased from 0.053511 to 0.048964 -> saving best model.\n"
     ]
    },
    {
     "name": "stderr",
     "output_type": "stream",
     "text": [
      "Training: 100%|██████████| 94/94 [00:47<00:00,  1.99it/s]\n",
      "Validating: 100%|██████████| 13/13 [00:06<00:00,  1.90it/s]\n"
     ]
    },
    {
     "name": "stdout",
     "output_type": "stream",
     "text": [
      "Epoch: 13/20.. Training Loss: 0.064352.. Validation Loss: 0.069110\n"
     ]
    },
    {
     "name": "stderr",
     "output_type": "stream",
     "text": [
      "Training: 100%|██████████| 94/94 [00:51<00:00,  1.83it/s]\n",
      "Validating: 100%|██████████| 13/13 [00:05<00:00,  2.24it/s]\n"
     ]
    },
    {
     "name": "stdout",
     "output_type": "stream",
     "text": [
      "Epoch: 14/20.. Training Loss: 0.062571.. Validation Loss: 0.056977\n"
     ]
    },
    {
     "name": "stderr",
     "output_type": "stream",
     "text": [
      "Training: 100%|██████████| 94/94 [00:50<00:00,  1.85it/s]\n",
      "Validating: 100%|██████████| 13/13 [00:05<00:00,  2.20it/s]\n"
     ]
    },
    {
     "name": "stdout",
     "output_type": "stream",
     "text": [
      "Epoch: 15/20.. Training Loss: 0.067144.. Validation Loss: 0.067013\n"
     ]
    },
    {
     "name": "stderr",
     "output_type": "stream",
     "text": [
      "Training: 100%|██████████| 94/94 [00:49<00:00,  1.90it/s]\n",
      "Validating: 100%|██████████| 13/13 [00:06<00:00,  1.97it/s]\n"
     ]
    },
    {
     "name": "stdout",
     "output_type": "stream",
     "text": [
      "Epoch: 16/20.. Training Loss: 0.067414.. Validation Loss: 0.060951\n"
     ]
    },
    {
     "name": "stderr",
     "output_type": "stream",
     "text": [
      "Training: 100%|██████████| 94/94 [00:51<00:00,  1.84it/s]\n",
      "Validating: 100%|██████████| 13/13 [00:06<00:00,  2.04it/s]\n"
     ]
    },
    {
     "name": "stdout",
     "output_type": "stream",
     "text": [
      "Epoch: 17/20.. Training Loss: 0.063494.. Validation Loss: 0.051566\n"
     ]
    },
    {
     "name": "stderr",
     "output_type": "stream",
     "text": [
      "Training: 100%|██████████| 94/94 [00:49<00:00,  1.90it/s]\n",
      "Validating: 100%|██████████| 13/13 [00:05<00:00,  2.20it/s]\n"
     ]
    },
    {
     "name": "stdout",
     "output_type": "stream",
     "text": [
      "Epoch: 18/20.. Training Loss: 0.074936.. Validation Loss: 0.054275\n"
     ]
    },
    {
     "name": "stderr",
     "output_type": "stream",
     "text": [
      "Training: 100%|██████████| 94/94 [00:50<00:00,  1.88it/s]\n",
      "Validating: 100%|██████████| 13/13 [00:06<00:00,  2.13it/s]\n"
     ]
    },
    {
     "name": "stdout",
     "output_type": "stream",
     "text": [
      "Epoch: 19/20.. Training Loss: 0.068947.. Validation Loss: 0.080026\n"
     ]
    },
    {
     "name": "stderr",
     "output_type": "stream",
     "text": [
      "Training: 100%|██████████| 94/94 [00:50<00:00,  1.88it/s]\n",
      "Validating: 100%|██████████| 13/13 [00:06<00:00,  2.03it/s]\n"
     ]
    },
    {
     "name": "stdout",
     "output_type": "stream",
     "text": [
      "Epoch: 20/20.. Training Loss: 0.068532.. Validation Loss: 0.055573\n",
      "Training on cuda...\n"
     ]
    },
    {
     "name": "stderr",
     "output_type": "stream",
     "text": [
      "Training: 100%|██████████| 94/94 [00:49<00:00,  1.90it/s]\n",
      "Validating: 100%|██████████| 13/13 [00:06<00:00,  2.02it/s]\n"
     ]
    },
    {
     "name": "stdout",
     "output_type": "stream",
     "text": [
      "Epoch: 1/20.. Training Loss: 15.746724.. Validation Loss: 0.812838\n",
      "loss decreased from inf to 0.812838 -> saving best model.\n"
     ]
    },
    {
     "name": "stderr",
     "output_type": "stream",
     "text": [
      "Training: 100%|██████████| 94/94 [00:49<00:00,  1.90it/s]\n",
      "Validating: 100%|██████████| 13/13 [00:06<00:00,  2.00it/s]\n"
     ]
    },
    {
     "name": "stdout",
     "output_type": "stream",
     "text": [
      "Epoch: 2/20.. Training Loss: 1.343331.. Validation Loss: 0.816110\n"
     ]
    },
    {
     "name": "stderr",
     "output_type": "stream",
     "text": [
      "Training: 100%|██████████| 94/94 [00:52<00:00,  1.78it/s]\n",
      "Validating: 100%|██████████| 13/13 [00:06<00:00,  1.94it/s]\n"
     ]
    },
    {
     "name": "stdout",
     "output_type": "stream",
     "text": [
      "Epoch: 3/20.. Training Loss: 0.768634.. Validation Loss: 0.813412\n"
     ]
    },
    {
     "name": "stderr",
     "output_type": "stream",
     "text": [
      "Training: 100%|██████████| 94/94 [00:54<00:00,  1.71it/s]\n",
      "Validating: 100%|██████████| 13/13 [00:06<00:00,  1.93it/s]\n"
     ]
    },
    {
     "name": "stdout",
     "output_type": "stream",
     "text": [
      "Epoch: 4/20.. Training Loss: 0.768785.. Validation Loss: 0.814667\n"
     ]
    },
    {
     "name": "stderr",
     "output_type": "stream",
     "text": [
      "Training: 100%|██████████| 94/94 [00:51<00:00,  1.83it/s]\n",
      "Validating: 100%|██████████| 13/13 [00:06<00:00,  2.09it/s]\n"
     ]
    },
    {
     "name": "stdout",
     "output_type": "stream",
     "text": [
      "Epoch: 5/20.. Training Loss: 0.768763.. Validation Loss: 0.812232\n",
      "loss decreased from 0.812838 to 0.812232 -> saving best model.\n"
     ]
    },
    {
     "name": "stderr",
     "output_type": "stream",
     "text": [
      "Training: 100%|██████████| 94/94 [00:49<00:00,  1.89it/s]\n",
      "Validating: 100%|██████████| 13/13 [00:06<00:00,  2.10it/s]\n"
     ]
    },
    {
     "name": "stdout",
     "output_type": "stream",
     "text": [
      "Epoch: 6/20.. Training Loss: 0.769473.. Validation Loss: 0.812313\n"
     ]
    },
    {
     "name": "stderr",
     "output_type": "stream",
     "text": [
      "Training: 100%|██████████| 94/94 [00:49<00:00,  1.92it/s]\n",
      "Validating: 100%|██████████| 13/13 [00:05<00:00,  2.19it/s]\n"
     ]
    },
    {
     "name": "stdout",
     "output_type": "stream",
     "text": [
      "Epoch: 7/20.. Training Loss: 0.769339.. Validation Loss: 0.814964\n"
     ]
    },
    {
     "name": "stderr",
     "output_type": "stream",
     "text": [
      "Training: 100%|██████████| 94/94 [00:49<00:00,  1.88it/s]\n",
      "Validating: 100%|██████████| 13/13 [00:05<00:00,  2.24it/s]\n"
     ]
    },
    {
     "name": "stdout",
     "output_type": "stream",
     "text": [
      "Epoch: 8/20.. Training Loss: 0.768889.. Validation Loss: 0.816490\n"
     ]
    },
    {
     "name": "stderr",
     "output_type": "stream",
     "text": [
      "Training: 100%|██████████| 94/94 [00:48<00:00,  1.92it/s]\n",
      "Validating: 100%|██████████| 13/13 [00:05<00:00,  2.21it/s]\n"
     ]
    },
    {
     "name": "stdout",
     "output_type": "stream",
     "text": [
      "Epoch: 9/20.. Training Loss: 0.768605.. Validation Loss: 0.812624\n"
     ]
    },
    {
     "name": "stderr",
     "output_type": "stream",
     "text": [
      "Training: 100%|██████████| 94/94 [00:49<00:00,  1.89it/s]\n",
      "Validating: 100%|██████████| 13/13 [00:06<00:00,  1.96it/s]\n"
     ]
    },
    {
     "name": "stdout",
     "output_type": "stream",
     "text": [
      "Epoch: 10/20.. Training Loss: 0.768211.. Validation Loss: 0.813988\n"
     ]
    },
    {
     "name": "stderr",
     "output_type": "stream",
     "text": [
      "Training: 100%|██████████| 94/94 [00:49<00:00,  1.89it/s]\n",
      "Validating: 100%|██████████| 13/13 [00:06<00:00,  1.97it/s]\n"
     ]
    },
    {
     "name": "stdout",
     "output_type": "stream",
     "text": [
      "Epoch: 11/20.. Training Loss: 0.768224.. Validation Loss: 0.812156\n",
      "loss decreased from 0.812232 to 0.812156 -> saving best model.\n"
     ]
    },
    {
     "name": "stderr",
     "output_type": "stream",
     "text": [
      "Training: 100%|██████████| 94/94 [00:48<00:00,  1.93it/s]\n",
      "Validating: 100%|██████████| 13/13 [00:06<00:00,  2.00it/s]\n"
     ]
    },
    {
     "name": "stdout",
     "output_type": "stream",
     "text": [
      "Epoch: 12/20.. Training Loss: 0.769045.. Validation Loss: 0.816600\n"
     ]
    },
    {
     "name": "stderr",
     "output_type": "stream",
     "text": [
      "Training: 100%|██████████| 94/94 [00:49<00:00,  1.89it/s]\n",
      "Validating: 100%|██████████| 13/13 [00:06<00:00,  2.14it/s]\n"
     ]
    },
    {
     "name": "stdout",
     "output_type": "stream",
     "text": [
      "Epoch: 13/20.. Training Loss: 0.768948.. Validation Loss: 0.813604\n"
     ]
    },
    {
     "name": "stderr",
     "output_type": "stream",
     "text": [
      "Training: 100%|██████████| 94/94 [00:53<00:00,  1.77it/s]\n",
      "Validating: 100%|██████████| 13/13 [00:06<00:00,  2.09it/s]\n"
     ]
    },
    {
     "name": "stdout",
     "output_type": "stream",
     "text": [
      "Epoch: 14/20.. Training Loss: 0.768531.. Validation Loss: 0.814312\n"
     ]
    },
    {
     "name": "stderr",
     "output_type": "stream",
     "text": [
      "Training: 100%|██████████| 94/94 [00:50<00:00,  1.87it/s]\n",
      "Validating: 100%|██████████| 13/13 [00:07<00:00,  1.84it/s]\n"
     ]
    },
    {
     "name": "stdout",
     "output_type": "stream",
     "text": [
      "Epoch: 15/20.. Training Loss: 0.768381.. Validation Loss: 0.813358\n"
     ]
    },
    {
     "name": "stderr",
     "output_type": "stream",
     "text": [
      "Training: 100%|██████████| 94/94 [00:48<00:00,  1.92it/s]\n",
      "Validating: 100%|██████████| 13/13 [00:06<00:00,  2.13it/s]\n"
     ]
    },
    {
     "name": "stdout",
     "output_type": "stream",
     "text": [
      "Epoch: 16/20.. Training Loss: 0.769136.. Validation Loss: 0.815440\n"
     ]
    },
    {
     "name": "stderr",
     "output_type": "stream",
     "text": [
      "Training: 100%|██████████| 94/94 [00:50<00:00,  1.85it/s]\n",
      "Validating: 100%|██████████| 13/13 [00:06<00:00,  2.10it/s]\n"
     ]
    },
    {
     "name": "stdout",
     "output_type": "stream",
     "text": [
      "Epoch: 17/20.. Training Loss: 0.768373.. Validation Loss: 0.815864\n"
     ]
    },
    {
     "name": "stderr",
     "output_type": "stream",
     "text": [
      "Training: 100%|██████████| 94/94 [00:51<00:00,  1.84it/s]\n",
      "Validating: 100%|██████████| 13/13 [00:06<00:00,  2.08it/s]\n"
     ]
    },
    {
     "name": "stdout",
     "output_type": "stream",
     "text": [
      "Epoch: 18/20.. Training Loss: 0.768979.. Validation Loss: 0.813591\n"
     ]
    },
    {
     "name": "stderr",
     "output_type": "stream",
     "text": [
      "Training: 100%|██████████| 94/94 [00:51<00:00,  1.82it/s]\n",
      "Validating: 100%|██████████| 13/13 [00:06<00:00,  1.94it/s]\n"
     ]
    },
    {
     "name": "stdout",
     "output_type": "stream",
     "text": [
      "Epoch: 19/20.. Training Loss: 0.769189.. Validation Loss: 0.816426\n"
     ]
    },
    {
     "name": "stderr",
     "output_type": "stream",
     "text": [
      "Training: 100%|██████████| 94/94 [00:49<00:00,  1.90it/s]\n",
      "Validating: 100%|██████████| 13/13 [00:06<00:00,  2.07it/s]\n"
     ]
    },
    {
     "name": "stdout",
     "output_type": "stream",
     "text": [
      "Epoch: 20/20.. Training Loss: 0.768654.. Validation Loss: 0.814664\n"
     ]
    }
   ],
   "source": [
    "training_loss_tracker, valid_loss_tracker = get_optimal_lr(inputs, [1e-4, 1e-3, 1e-2, 1e-1, 1])"
   ]
  },
  {
   "cell_type": "code",
   "execution_count": 10,
   "metadata": {},
   "outputs": [],
   "source": [
    "import cv2\n",
    "    \n",
    "def smooth_loss(loss_tracker: NDArray, window_size: int = 5) -> NDArray:\n",
    "    \"\"\"Smooths the loss tracker by using opencv convolution along the epochs axis.\"\"\"\n",
    "    kernel = np.ones(window_size)/window_size\n",
    "    return cv2.filter2D(loss_tracker, -1, kernel)"
   ]
  },
  {
   "cell_type": "code",
   "execution_count": 7,
   "metadata": {},
   "outputs": [],
   "source": [
    "smoothed_training_loss = smooth_loss(training_loss_tracker)\n",
    "smoothed_valid_loss = smooth_loss(valid_loss_tracker)"
   ]
  },
  {
   "cell_type": "code",
   "execution_count": 18,
   "metadata": {},
   "outputs": [
    {
     "data": {
      "image/png": "[encoded data removed]",
      "text/plain": [
       "<Figure size 432x288 with 1 Axes>"
      ]
     },
     "metadata": {
      "needs_background": "light"
     },
     "output_type": "display_data"
    }
   ],
   "source": [
    "import matplotlib.pyplot as plt\n",
    "\n",
    "plt.plot(smoothed_training_loss.T)\n",
    "plt.xlabel(\"Epochs\")\n",
    "plt.ylabel(\"Loss\")\n",
    "plt.title(\"Training Loss\")\n",
    "plt.legend([\"1e-4\", \"1e-3\", \"1e-2\", \"1e-1\", \"1\"])\n",
    "\n",
    "# save to the material folder\n",
    "plt.savefig(\"material/training_loss.png\", dpi=1000)\n",
    "plt.show()"
   ]
  },
  {
   "cell_type": "code",
   "execution_count": 19,
   "metadata": {},
   "outputs": [
    {
     "data": {
      "image/png": "[encoded data removed]",
      "text/plain": [
       "<Figure size 432x288 with 1 Axes>"
      ]
     },
     "metadata": {
      "needs_background": "light"
     },
     "output_type": "display_data"
    }
   ],
   "source": [
    "plt.plot(smoothed_valid_loss.T)\n",
    "plt.xlabel(\"Epochs\")\n",
    "plt.ylabel(\"Loss\")\n",
    "plt.title(\"Validation Loss\")\n",
    "plt.legend([\"1e-4\", \"1e-3\", \"1e-2\", \"1e-1\", \"1\"])\n",
    "\n",
    "# save to the material folder in a 1000x1000 resolution\n",
    "plt.savefig(\"material/validation_loss.png\", dpi=1000)\n",
    "plt.show()"
   ]
  },
  {
   "cell_type": "markdown",
   "metadata": {},
   "source": [
    "## Experiment 2: Determine the effectiveness of batchnorm"
   ]
  },
  {
   "cell_type": "code",
   "execution_count": 4,
   "metadata": {},
   "outputs": [],
   "source": [
    "import numpy as np\n",
    "\n",
    "import torch\n",
    "\n",
    "from torch import nn\n",
    "\n",
    "import torch.nn.functional as F\n",
    "\n",
    "\n",
    "class DoubleConv(nn.Module):\n",
    "    \"\"\"Double Conv class\"\"\"\n",
    "\n",
    "    def __init__(\n",
    "        self, in_channels: int, out_channels: int, downsample: bool = True\n",
    "    ) -> None:\n",
    "        \"\"\"Constructor for the double conv class\n",
    "\n",
    "        Parameters:\n",
    "        -----------\n",
    "            in_channels: int\n",
    "                number of input channels\n",
    "            out_channels: int\n",
    "                number of output channels\n",
    "        \"\"\"\n",
    "        super(DoubleConv, self).__init__()\n",
    "        self.downsample = downsample\n",
    "        self.conv = nn.Sequential(\n",
    "            nn.Conv2d(in_channels, out_channels, 3, padding=1),\n",
    "            nn.ELU(),\n",
    "            nn.BatchNorm2d(out_channels),\n",
    "            nn.Conv2d(out_channels, out_channels, 3, padding=1),\n",
    "            nn.ELU(),\n",
    "            nn.BatchNorm2d(out_channels),\n",
    "        )\n",
    "\n",
    "    def forward(self, x: torch.Tensor) -> torch.Tensor:\n",
    "        \"\"\"Forward pass of the double conv layer\n",
    "\n",
    "        Parameters:\n",
    "        -----------\n",
    "            x: torch.Tensor\n",
    "                input tensor\n",
    "\n",
    "        Returns:\n",
    "        --------\n",
    "            torch.Tensor:\n",
    "                output tensor\n",
    "        \"\"\"\n",
    "        x = self.conv(x)\n",
    "\n",
    "        if self.downsample:\n",
    "            x = F.max_pool2d(x, 2)\n",
    "\n",
    "        return x\n",
    "\n",
    "\n",
    "class UpSample(nn.Module):\n",
    "    \"\"\"UpSample class\"\"\"\n",
    "\n",
    "    def __init__(\n",
    "        self, in_channels: int, out_channels: int, use_conv_transpose: bool = False\n",
    "    ) -> None:\n",
    "        \"\"\"Constructor for the UpSample class\n",
    "\n",
    "        Parameters:\n",
    "        -----------\n",
    "            in_channels: int\n",
    "                number of input channels\n",
    "            out_channels: int\n",
    "                number of output channels\n",
    "            use_conv_transpose: bool\n",
    "                whether to use transpose convolution or not\n",
    "        \"\"\"\n",
    "        super(UpSample, self).__init__()\n",
    "        self.in_channels = in_channels\n",
    "        self.out_channels = out_channels\n",
    "        self.use_conv_transpose = use_conv_transpose\n",
    "\n",
    "        if self.use_conv_transpose:\n",
    "            self.tconv = nn.Sequential(\n",
    "                nn.ConvTranspose2d(\n",
    "                    self.in_channels, self.out_channels, kernel_size=2, stride=2\n",
    "                ),\n",
    "                nn.BatchNorm2d(self.out_channels),\n",
    "                nn.ReLU(),\n",
    "                nn.Conv2d(self.out_channels, self.out_channels, 3, padding=1),\n",
    "                nn.BatchNorm2d(self.out_channels),\n",
    "                nn.ReLU(),\n",
    "            )\n",
    "        else:\n",
    "            self.up = nn.Sequential(\n",
    "                nn.Upsample(scale_factor=2, mode=\"bilinear\", align_corners=True),\n",
    "                DoubleConv(self.in_channels, self.out_channels, downsample=False),\n",
    "            )\n",
    "\n",
    "    def forward(self, x_prev: torch.Tensor, x: torch.Tensor) -> torch.Tensor:\n",
    "        \"\"\"Forward pass of the UpSample class\n",
    "\n",
    "        Parameters:\n",
    "        -----------\n",
    "            x_prev: torch.Tensor\n",
    "                input tensor from the previous layer\n",
    "            x: torch.Tensor\n",
    "                input tensor from the skip connection\n",
    "\n",
    "        Returns:\n",
    "        --------\n",
    "            torch.Tensor:\n",
    "                output tensor\n",
    "        \"\"\"\n",
    "        if self.use_conv_transpose:\n",
    "            x_prev = self.tconv(x_prev)\n",
    "        else:\n",
    "            x_prev = self.up(x_prev)\n",
    "\n",
    "        # pad x_prev to match x\n",
    "        diff_h = x_prev.size()[2] - x.size()[2]\n",
    "        diff_w = x_prev.size()[3] - x.size()[3]\n",
    "        x = F.pad(\n",
    "            x,\n",
    "            [diff_w // 2, diff_w - diff_w // 2, diff_h // 2, diff_h - diff_h // 2],\n",
    "        )\n",
    "        return x_prev + x\n",
    "\n",
    "\n",
    "class DepthNet(nn.Module):\n",
    "    def __init__(\n",
    "        self, in_channels, init_weights: bool = True, use_transpose_conv: bool = False\n",
    "    ) -> None:\n",
    "        super().__init__()\n",
    "        # downsampling\n",
    "        self.downsample1 = DoubleConv(in_channels, 64)\n",
    "        self.downsample2 = DoubleConv(64, 128)\n",
    "        self.downsample3 = DoubleConv(128, 256)\n",
    "        self.downsample4 = DoubleConv(256, 512)\n",
    "        # upsampling\n",
    "        self.upsample1 = UpSample(512, 256, use_transpose_conv)\n",
    "        self.upsample2 = UpSample(256, 128, use_transpose_conv)\n",
    "        self.upsample3 = UpSample(128, 64, use_transpose_conv)\n",
    "        self.upsample4 = UpSample(64, 64, use_transpose_conv)\n",
    "        # 1x1 convolution\n",
    "        self.conv = nn.Conv2d(64, 1, 1)\n",
    "\n",
    "        if init_weights:\n",
    "            self.initialize_weights()\n",
    "\n",
    "    def initialize_weights(self) -> None:\n",
    "        \"\"\"Iniitializes the weights of the network according to the Kaiming uniform distribution\n",
    "        to avoid vanishing or exploding gradients by keeping the mean of the activations around 0 and the variance around 1\n",
    "        \"\"\"\n",
    "        for m in self.modules():\n",
    "            if isinstance(m, nn.Conv2d) or isinstance(m, nn.ConvTranspose2d):\n",
    "                # kaiming initialization\n",
    "                nn.init.kaiming_uniform_(m.weight)\n",
    "\n",
    "    def forward(self, x: torch.Tensor) -> torch.Tensor:\n",
    "        # downsampling\n",
    "        x1 = self.downsample1(x)\n",
    "        del x\n",
    "        x2 = self.downsample2(x1)\n",
    "        x3 = self.downsample3(x2)\n",
    "        x4 = self.downsample4(x3)\n",
    "        # upsampling\n",
    "        x_prev = self.upsample1(x4, x3)\n",
    "        del x4\n",
    "        x_prev = self.upsample2(\n",
    "            x_prev,\n",
    "            x2,\n",
    "        )\n",
    "        del x2\n",
    "        x_prev = self.upsample3(x_prev, x1)\n",
    "        x_prev = self.upsample4(x_prev, x1)\n",
    "        del x1\n",
    "        # 1x1 convolution\n",
    "        x_prev = (\n",
    "            F.relu(self.conv(x_prev + 1e-3)) + 1e-6\n",
    "        )  # add small value to avoid log(0)\n",
    "\n",
    "        return x_prev"
   ]
  },
  {
   "cell_type": "code",
   "execution_count": 25,
   "metadata": {},
   "outputs": [
    {
     "name": "stdout",
     "output_type": "stream",
     "text": [
      "DepthNet(\n",
      "  (downsample1): DoubleConv(\n",
      "    (conv): Sequential(\n",
      "      (0): Conv2d(4, 64, kernel_size=(3, 3), stride=(1, 1), padding=(1, 1))\n",
      "      (1): ELU(alpha=1.0)\n",
      "      (2): BatchNorm2d(64, eps=1e-05, momentum=0.1, affine=True, track_running_stats=True)\n",
      "      (3): Conv2d(64, 64, kernel_size=(3, 3), stride=(1, 1), padding=(1, 1))\n",
      "      (4): ELU(alpha=1.0)\n",
      "      (5): BatchNorm2d(64, eps=1e-05, momentum=0.1, affine=True, track_running_stats=True)\n",
      "    )\n",
      "  )\n",
      "  (downsample2): DoubleConv(\n",
      "    (conv): Sequential(\n",
      "      (0): Conv2d(64, 128, kernel_size=(3, 3), stride=(1, 1), padding=(1, 1))\n",
      "      (1): ELU(alpha=1.0)\n",
      "      (2): BatchNorm2d(128, eps=1e-05, momentum=0.1, affine=True, track_running_stats=True)\n",
      "      (3): Conv2d(128, 128, kernel_size=(3, 3), stride=(1, 1), padding=(1, 1))\n",
      "      (4): ELU(alpha=1.0)\n",
      "      (5): BatchNorm2d(128, eps=1e-05, momentum=0.1, affine=True, track_running_stats=True)\n",
      "    )\n",
      "  )\n",
      "  (downsample3): DoubleConv(\n",
      "    (conv): Sequential(\n",
      "      (0): Conv2d(128, 256, kernel_size=(3, 3), stride=(1, 1), padding=(1, 1))\n",
      "      (1): ELU(alpha=1.0)\n",
      "      (2): BatchNorm2d(256, eps=1e-05, momentum=0.1, affine=True, track_running_stats=True)\n",
      "      (3): Conv2d(256, 256, kernel_size=(3, 3), stride=(1, 1), padding=(1, 1))\n",
      "      (4): ELU(alpha=1.0)\n",
      "      (5): BatchNorm2d(256, eps=1e-05, momentum=0.1, affine=True, track_running_stats=True)\n",
      "    )\n",
      "  )\n",
      "  (downsample4): DoubleConv(\n",
      "    (conv): Sequential(\n",
      "      (0): Conv2d(256, 512, kernel_size=(3, 3), stride=(1, 1), padding=(1, 1))\n",
      "      (1): ELU(alpha=1.0)\n",
      "      (2): BatchNorm2d(512, eps=1e-05, momentum=0.1, affine=True, track_running_stats=True)\n",
      "      (3): Conv2d(512, 512, kernel_size=(3, 3), stride=(1, 1), padding=(1, 1))\n",
      "      (4): ELU(alpha=1.0)\n",
      "      (5): BatchNorm2d(512, eps=1e-05, momentum=0.1, affine=True, track_running_stats=True)\n",
      "    )\n",
      "  )\n",
      "  (upsample1): UpSample(\n",
      "    (up): Sequential(\n",
      "      (0): Upsample(scale_factor=2.0, mode=bilinear)\n",
      "      (1): DoubleConv(\n",
      "        (conv): Sequential(\n",
      "          (0): Conv2d(512, 256, kernel_size=(3, 3), stride=(1, 1), padding=(1, 1))\n",
      "          (1): ELU(alpha=1.0)\n",
      "          (2): BatchNorm2d(256, eps=1e-05, momentum=0.1, affine=True, track_running_stats=True)\n",
      "          (3): Conv2d(256, 256, kernel_size=(3, 3), stride=(1, 1), padding=(1, 1))\n",
      "          (4): ELU(alpha=1.0)\n",
      "          (5): BatchNorm2d(256, eps=1e-05, momentum=0.1, affine=True, track_running_stats=True)\n",
      "        )\n",
      "      )\n",
      "    )\n",
      "  )\n",
      "  (upsample2): UpSample(\n",
      "    (up): Sequential(\n",
      "      (0): Upsample(scale_factor=2.0, mode=bilinear)\n",
      "      (1): DoubleConv(\n",
      "        (conv): Sequential(\n",
      "          (0): Conv2d(256, 128, kernel_size=(3, 3), stride=(1, 1), padding=(1, 1))\n",
      "          (1): ELU(alpha=1.0)\n",
      "          (2): BatchNorm2d(128, eps=1e-05, momentum=0.1, affine=True, track_running_stats=True)\n",
      "          (3): Conv2d(128, 128, kernel_size=(3, 3), stride=(1, 1), padding=(1, 1))\n",
      "          (4): ELU(alpha=1.0)\n",
      "          (5): BatchNorm2d(128, eps=1e-05, momentum=0.1, affine=True, track_running_stats=True)\n",
      "        )\n",
      "      )\n",
      "    )\n",
      "  )\n",
      "  (upsample3): UpSample(\n",
      "    (up): Sequential(\n",
      "      (0): Upsample(scale_factor=2.0, mode=bilinear)\n",
      "      (1): DoubleConv(\n",
      "        (conv): Sequential(\n",
      "          (0): Conv2d(128, 64, kernel_size=(3, 3), stride=(1, 1), padding=(1, 1))\n",
      "          (1): ELU(alpha=1.0)\n",
      "          (2): BatchNorm2d(64, eps=1e-05, momentum=0.1, affine=True, track_running_stats=True)\n",
      "          (3): Conv2d(64, 64, kernel_size=(3, 3), stride=(1, 1), padding=(1, 1))\n",
      "          (4): ELU(alpha=1.0)\n",
      "          (5): BatchNorm2d(64, eps=1e-05, momentum=0.1, affine=True, track_running_stats=True)\n",
      "        )\n",
      "      )\n",
      "    )\n",
      "  )\n",
      "  (upsample4): UpSample(\n",
      "    (up): Sequential(\n",
      "      (0): Upsample(scale_factor=2.0, mode=bilinear)\n",
      "      (1): DoubleConv(\n",
      "        (conv): Sequential(\n",
      "          (0): Conv2d(64, 64, kernel_size=(3, 3), stride=(1, 1), padding=(1, 1))\n",
      "          (1): ELU(alpha=1.0)\n",
      "          (2): BatchNorm2d(64, eps=1e-05, momentum=0.1, affine=True, track_running_stats=True)\n",
      "          (3): Conv2d(64, 64, kernel_size=(3, 3), stride=(1, 1), padding=(1, 1))\n",
      "          (4): ELU(alpha=1.0)\n",
      "          (5): BatchNorm2d(64, eps=1e-05, momentum=0.1, affine=True, track_running_stats=True)\n",
      "        )\n",
      "      )\n",
      "    )\n",
      "  )\n",
      "  (conv): Conv2d(64, 1, kernel_size=(1, 1), stride=(1, 1))\n",
      ")\n"
     ]
    }
   ],
   "source": [
    "model = DepthNet(4, use_transpose_conv=False)\n",
    "print(model)"
   ]
  },
  {
   "cell_type": "code",
   "execution_count": 26,
   "metadata": {},
   "outputs": [],
   "source": [
    "from torch.optim.lr_scheduler import ExponentialLR\n",
    "\n",
    "from criterions import DepthLoss\n",
    "\n",
    "optimizer = Adam(model.parameters(), lr=1e-3)\n",
    "criterion = DepthLoss()\n",
    "\n",
    "inputs = {\n",
    "    \"model\": model,\n",
    "    \"criterion\": criterion,\n",
    "    \"optimizer\": optimizer,\n",
    "    \"trainloader\": trainloader,\n",
    "    \"validloader\": validloader,\n",
    "    \"epochs\": 30,\n",
    "    \"device\": \"cuda\",\n",
    "    \"verbose\": False,\n",
    "    \"scheduler\": ExponentialLR(optimizer, gamma=0.99),\n",
    "    \"training_losses\": [0] * 30,\n",
    "    \"validation_losses\": [0] * 30,\n",
    "    # \"pretrained_model\":\"best_model_log_mse.pth\"\n",
    "}"
   ]
  },
  {
   "cell_type": "code",
   "execution_count": 27,
   "metadata": {},
   "outputs": [
    {
     "name": "stdout",
     "output_type": "stream",
     "text": [
      "Training on cuda...\n"
     ]
    }
   ],
   "source": [
    "train(**inputs)"
   ]
  },
  {
   "cell_type": "code",
   "execution_count": 21,
   "metadata": {},
   "outputs": [
    {
     "data": {
      "image/png": "[encoded data removed]",
      "text/plain": [
       "<Figure size 432x288 with 1 Axes>"
      ]
     },
     "metadata": {
      "needs_background": "light"
     },
     "output_type": "display_data"
    }
   ],
   "source": [
    "import matplotlib.pyplot as plt\n",
    "\n",
    "# smooth training and validation losses\n",
    "smoothed_training_loss_elu = smooth_loss(np.array(inputs[\"training_losses\"]))\n",
    "smoothed_valid_loss_elu = smooth_loss(np.array(inputs[\"validation_losses\"]))\n",
    "\n",
    "# plot training and validation losses\n",
    "plt.plot(smoothed_training_loss_elu, label=\"Training Loss\")\n",
    "plt.plot(smoothed_valid_loss_elu, label=\"Validation Loss\")\n",
    "plt.xlabel(\"Epochs\")\n",
    "plt.ylabel(\"Loss\")\n",
    "plt.title(\"Training and Validation Loss (ELU)\")\n",
    "plt.legend()\n",
    "plt.savefig(\"material/training_and_validation_loss_elu.png\", dpi=1000)\n",
    "plt.show()"
   ]
  },
  {
   "cell_type": "code",
   "execution_count": 22,
   "metadata": {},
   "outputs": [
    {
     "data": {
      "image/png": "[encoded data removed]",
      "text/plain": [
       "<Figure size 432x288 with 1 Axes>"
      ]
     },
     "metadata": {
      "needs_background": "light"
     },
     "output_type": "display_data"
    },
    {
     "data": {
      "image/png": "[encoded data removed]",
      "text/plain": [
       "<Figure size 432x288 with 1 Axes>"
      ]
     },
     "metadata": {
      "needs_background": "light"
     },
     "output_type": "display_data"
    }
   ],
   "source": [
    "# plot relu and prelu training and validation losses\n",
    "plt.plot(smoothed_training_loss_relu, label=\"ReLU\")\n",
    "plt.plot(smoothed_training_loss_prelu, label=\"PReLU\")\n",
    "plt.plot(smoothed_training_loss_elu, label=\"ELU\")\n",
    "plt.xlabel(\"Epochs\")\n",
    "plt.ylabel(\"Loss\")\n",
    "plt.title(\"Training Loss\")\n",
    "plt.legend()\n",
    "plt.savefig(\"material/training_loss_relu_vs_prelu_vs_elu.png\", dpi=1000)\n",
    "plt.show()\n",
    "\n",
    "# plot relu and prelu training and validation losses\n",
    "plt.plot(smoothed_valid_loss_relu, label=\"ReLU\") \n",
    "plt.plot(smoothed_valid_loss_prelu, label=\"PReLU\")\n",
    "plt.plot(smoothed_valid_loss_elu, label=\"ELU\")\n",
    "plt.xlabel(\"Epochs\")\n",
    "plt.ylabel(\"Loss\")\n",
    "plt.title(\"Validation Loss\")\n",
    "plt.legend()\n",
    "plt.savefig(\"material/validation_loss_relu_vs_prelu_vs_elu.png\", dpi=1000)\n",
    "plt.show()"
   ]
  },
  {
   "cell_type": "code",
   "execution_count": 12,
   "metadata": {},
   "outputs": [
    {
     "data": {
      "image/png": "[encoded data removed]",
      "text/plain": [
       "<Figure size 432x288 with 1 Axes>"
      ]
     },
     "metadata": {
      "needs_background": "light"
     },
     "output_type": "display_data"
    }
   ],
   "source": [
    "import matplotlib.pyplot as plt\n",
    "\n",
    "# smooth training and validation losses\n",
    "smoothed_training_loss_wo_bn = smooth_loss(np.array(inputs[\"training_losses\"]))\n",
    "smoothed_valid_loss_wo_bn    = smooth_loss(np.array(inputs[\"validation_losses\"]))\n",
    "\n",
    "# plot training and validation losses\n",
    "plt.plot(smoothed_training_loss_wo_bn, label=\"Training Loss\")\n",
    "plt.plot(smoothed_valid_loss_wo_bn, label=\"Validation Loss\")\n",
    "plt.xlabel(\"Epochs\")\n",
    "plt.ylabel(\"Loss\")\n",
    "plt.title(\"Training and Validation Loss (without batch normalization)\")\n",
    "plt.legend()\n",
    "plt.savefig(\"material/training_and_validation_loss_wo_bn.png\", dpi=1000)\n",
    "plt.show()"
   ]
  },
  {
   "cell_type": "code",
   "execution_count": 18,
   "metadata": {},
   "outputs": [
    {
     "data": {
      "image/png": "[encoded data removed]",
      "text/plain": [
       "<Figure size 432x288 with 1 Axes>"
      ]
     },
     "metadata": {
      "needs_background": "light"
     },
     "output_type": "display_data"
    }
   ],
   "source": [
    "# plot training and validation losses with and without batch normalization\n",
    "plt.plot(smoothed_training_loss_bn, label=\"Training Loss (with batch normalization)\")\n",
    "plt.plot(smoothed_valid_loss_bn, label=\"Validation Loss (with batch normalization)\")\n",
    "plt.plot(smoothed_training_loss_wo_bn, label=\"Training Loss (without batch normalization)\")\n",
    "plt.plot(smoothed_valid_loss_wo_bn, label=\"Validation Loss (without batch normalization)\")\n",
    "plt.xlabel(\"Epochs\")\n",
    "plt.ylabel(\"Loss\")\n",
    "plt.title(\"Training and Validation Loss\")\n",
    "plt.legend()\n",
    "plt.savefig(\"material/training_and_validation_loss_bn_exp.png\", dpi=1000)\n",
    "plt.show()"
   ]
  },
  {
   "cell_type": "markdown",
   "metadata": {},
   "source": [
    "###  Test Model with transpose_conv and without"
   ]
  },
  {
   "cell_type": "code",
   "execution_count": 7,
   "metadata": {},
   "outputs": [
    {
     "name": "stdout",
     "output_type": "stream",
     "text": [
      "Training on cuda...\n"
     ]
    },
    {
     "name": "stderr",
     "output_type": "stream",
     "text": [
      "Training: 100%|██████████| 94/94 [04:13<00:00,  2.70s/it]\n",
      "Validating: 100%|██████████| 13/13 [00:25<00:00,  1.99s/it]\n"
     ]
    },
    {
     "name": "stdout",
     "output_type": "stream",
     "text": [
      "Epoch: 1/30.. Training Loss: 0.085996.. Validation Loss: 0.025961\n",
      "loss decreased from inf to 0.025961 -> saving best model.\n"
     ]
    },
    {
     "name": "stderr",
     "output_type": "stream",
     "text": [
      "Training: 100%|██████████| 94/94 [01:04<00:00,  1.47it/s]\n",
      "Validating: 100%|██████████| 13/13 [00:05<00:00,  2.24it/s]\n"
     ]
    },
    {
     "name": "stdout",
     "output_type": "stream",
     "text": [
      "Epoch: 2/30.. Training Loss: 0.030304.. Validation Loss: 0.034016\n"
     ]
    },
    {
     "name": "stderr",
     "output_type": "stream",
     "text": [
      "Training: 100%|██████████| 94/94 [00:47<00:00,  1.98it/s]\n",
      "Validating: 100%|██████████| 13/13 [00:06<00:00,  2.12it/s]\n"
     ]
    },
    {
     "name": "stdout",
     "output_type": "stream",
     "text": [
      "Epoch: 3/30.. Training Loss: 0.031177.. Validation Loss: 0.036084\n"
     ]
    },
    {
     "name": "stderr",
     "output_type": "stream",
     "text": [
      "Training: 100%|██████████| 94/94 [00:48<00:00,  1.94it/s]\n",
      "Validating: 100%|██████████| 13/13 [00:05<00:00,  2.27it/s]\n"
     ]
    },
    {
     "name": "stdout",
     "output_type": "stream",
     "text": [
      "Epoch: 4/30.. Training Loss: 0.027039.. Validation Loss: 0.027692\n"
     ]
    },
    {
     "name": "stderr",
     "output_type": "stream",
     "text": [
      "Training: 100%|██████████| 94/94 [00:48<00:00,  1.93it/s]\n",
      "Validating: 100%|██████████| 13/13 [00:06<00:00,  2.07it/s]\n"
     ]
    },
    {
     "name": "stdout",
     "output_type": "stream",
     "text": [
      "Epoch: 5/30.. Training Loss: 0.025680.. Validation Loss: 0.032013\n"
     ]
    },
    {
     "name": "stderr",
     "output_type": "stream",
     "text": [
      "Training: 100%|██████████| 94/94 [00:48<00:00,  1.95it/s]\n",
      "Validating: 100%|██████████| 13/13 [00:06<00:00,  2.11it/s]\n"
     ]
    },
    {
     "name": "stdout",
     "output_type": "stream",
     "text": [
      "Epoch: 6/30.. Training Loss: 0.023033.. Validation Loss: 0.031078\n"
     ]
    },
    {
     "name": "stderr",
     "output_type": "stream",
     "text": [
      "Training: 100%|██████████| 94/94 [00:48<00:00,  1.95it/s]\n",
      "Validating: 100%|██████████| 13/13 [00:06<00:00,  2.08it/s]\n"
     ]
    },
    {
     "name": "stdout",
     "output_type": "stream",
     "text": [
      "Epoch: 7/30.. Training Loss: 0.024293.. Validation Loss: 0.038624\n"
     ]
    },
    {
     "name": "stderr",
     "output_type": "stream",
     "text": [
      "Training: 100%|██████████| 94/94 [00:49<00:00,  1.92it/s]\n",
      "Validating: 100%|██████████| 13/13 [00:05<00:00,  2.19it/s]\n"
     ]
    },
    {
     "name": "stdout",
     "output_type": "stream",
     "text": [
      "Epoch: 8/30.. Training Loss: 0.022815.. Validation Loss: 0.019187\n",
      "loss decreased from 0.025961 to 0.019187 -> saving best model.\n"
     ]
    },
    {
     "name": "stderr",
     "output_type": "stream",
     "text": [
      "Training: 100%|██████████| 94/94 [00:48<00:00,  1.93it/s]\n",
      "Validating: 100%|██████████| 13/13 [00:06<00:00,  2.13it/s]\n"
     ]
    },
    {
     "name": "stdout",
     "output_type": "stream",
     "text": [
      "Epoch: 9/30.. Training Loss: 0.020512.. Validation Loss: 0.016302\n",
      "loss decreased from 0.019187 to 0.016302 -> saving best model.\n"
     ]
    },
    {
     "name": "stderr",
     "output_type": "stream",
     "text": [
      "Training: 100%|██████████| 94/94 [00:48<00:00,  1.94it/s]\n",
      "Validating: 100%|██████████| 13/13 [00:05<00:00,  2.18it/s]\n"
     ]
    },
    {
     "name": "stdout",
     "output_type": "stream",
     "text": [
      "Epoch: 10/30.. Training Loss: 0.020400.. Validation Loss: 0.018268\n"
     ]
    },
    {
     "name": "stderr",
     "output_type": "stream",
     "text": [
      "Training: 100%|██████████| 94/94 [00:48<00:00,  1.96it/s]\n",
      "Validating: 100%|██████████| 13/13 [00:05<00:00,  2.19it/s]\n"
     ]
    },
    {
     "name": "stdout",
     "output_type": "stream",
     "text": [
      "Epoch: 11/30.. Training Loss: 0.020669.. Validation Loss: 0.022789\n"
     ]
    },
    {
     "name": "stderr",
     "output_type": "stream",
     "text": [
      "Training: 100%|██████████| 94/94 [00:48<00:00,  1.95it/s]\n",
      "Validating: 100%|██████████| 13/13 [00:05<00:00,  2.17it/s]\n"
     ]
    },
    {
     "name": "stdout",
     "output_type": "stream",
     "text": [
      "Epoch: 12/30.. Training Loss: 0.018515.. Validation Loss: 0.016396\n"
     ]
    },
    {
     "name": "stderr",
     "output_type": "stream",
     "text": [
      "Training: 100%|██████████| 94/94 [00:47<00:00,  1.97it/s]\n",
      "Validating: 100%|██████████| 13/13 [00:06<00:00,  2.14it/s]\n"
     ]
    },
    {
     "name": "stdout",
     "output_type": "stream",
     "text": [
      "Epoch: 13/30.. Training Loss: 0.020582.. Validation Loss: 0.019262\n"
     ]
    },
    {
     "name": "stderr",
     "output_type": "stream",
     "text": [
      "Training: 100%|██████████| 94/94 [00:48<00:00,  1.95it/s]\n",
      "Validating: 100%|██████████| 13/13 [00:05<00:00,  2.18it/s]\n"
     ]
    },
    {
     "name": "stdout",
     "output_type": "stream",
     "text": [
      "Epoch: 14/30.. Training Loss: 0.021042.. Validation Loss: 0.016604\n"
     ]
    },
    {
     "name": "stderr",
     "output_type": "stream",
     "text": [
      "Training: 100%|██████████| 94/94 [00:47<00:00,  1.97it/s]\n",
      "Validating: 100%|██████████| 13/13 [00:06<00:00,  2.13it/s]\n"
     ]
    },
    {
     "name": "stdout",
     "output_type": "stream",
     "text": [
      "Epoch: 15/30.. Training Loss: 0.016649.. Validation Loss: 0.017578\n"
     ]
    },
    {
     "name": "stderr",
     "output_type": "stream",
     "text": [
      "Training: 100%|██████████| 94/94 [00:49<00:00,  1.91it/s]\n",
      "Validating: 100%|██████████| 13/13 [00:05<00:00,  2.23it/s]\n"
     ]
    },
    {
     "name": "stdout",
     "output_type": "stream",
     "text": [
      "Epoch: 16/30.. Training Loss: 0.015965.. Validation Loss: 0.015558\n",
      "loss decreased from 0.016302 to 0.015558 -> saving best model.\n"
     ]
    },
    {
     "name": "stderr",
     "output_type": "stream",
     "text": [
      "Training: 100%|██████████| 94/94 [00:48<00:00,  1.95it/s]\n",
      "Validating: 100%|██████████| 13/13 [00:06<00:00,  2.14it/s]\n"
     ]
    },
    {
     "name": "stdout",
     "output_type": "stream",
     "text": [
      "Epoch: 17/30.. Training Loss: 0.017302.. Validation Loss: 0.016312\n"
     ]
    },
    {
     "name": "stderr",
     "output_type": "stream",
     "text": [
      "Training: 100%|██████████| 94/94 [00:48<00:00,  1.93it/s]\n",
      "Validating: 100%|██████████| 13/13 [00:06<00:00,  2.02it/s]\n"
     ]
    },
    {
     "name": "stdout",
     "output_type": "stream",
     "text": [
      "Epoch: 18/30.. Training Loss: 0.017548.. Validation Loss: 0.017437\n"
     ]
    },
    {
     "name": "stderr",
     "output_type": "stream",
     "text": [
      "Training: 100%|██████████| 94/94 [00:49<00:00,  1.89it/s]\n",
      "Validating: 100%|██████████| 13/13 [00:05<00:00,  2.18it/s]\n"
     ]
    },
    {
     "name": "stdout",
     "output_type": "stream",
     "text": [
      "Epoch: 19/30.. Training Loss: 0.016428.. Validation Loss: 0.015321\n",
      "loss decreased from 0.015558 to 0.015321 -> saving best model.\n"
     ]
    },
    {
     "name": "stderr",
     "output_type": "stream",
     "text": [
      "Training: 100%|██████████| 94/94 [00:48<00:00,  1.95it/s]\n",
      "Validating: 100%|██████████| 13/13 [00:06<00:00,  2.09it/s]\n"
     ]
    },
    {
     "name": "stdout",
     "output_type": "stream",
     "text": [
      "Epoch: 20/30.. Training Loss: 0.017412.. Validation Loss: 0.020617\n"
     ]
    },
    {
     "name": "stderr",
     "output_type": "stream",
     "text": [
      "Training: 100%|██████████| 94/94 [00:49<00:00,  1.91it/s]\n",
      "Validating: 100%|██████████| 13/13 [00:06<00:00,  2.15it/s]\n"
     ]
    },
    {
     "name": "stdout",
     "output_type": "stream",
     "text": [
      "Epoch: 21/30.. Training Loss: 0.015938.. Validation Loss: 0.020414\n"
     ]
    },
    {
     "name": "stderr",
     "output_type": "stream",
     "text": [
      "Training: 100%|██████████| 94/94 [00:47<00:00,  1.97it/s]\n",
      "Validating: 100%|██████████| 13/13 [00:06<00:00,  2.11it/s]\n"
     ]
    },
    {
     "name": "stdout",
     "output_type": "stream",
     "text": [
      "Epoch: 22/30.. Training Loss: 0.016281.. Validation Loss: 0.022114\n"
     ]
    },
    {
     "name": "stderr",
     "output_type": "stream",
     "text": [
      "Training: 100%|██████████| 94/94 [00:47<00:00,  1.96it/s]\n",
      "Validating: 100%|██████████| 13/13 [00:06<00:00,  2.16it/s]\n"
     ]
    },
    {
     "name": "stdout",
     "output_type": "stream",
     "text": [
      "Epoch: 23/30.. Training Loss: 0.016567.. Validation Loss: 0.016228\n"
     ]
    },
    {
     "name": "stderr",
     "output_type": "stream",
     "text": [
      "Training: 100%|██████████| 94/94 [00:48<00:00,  1.95it/s]\n",
      "Validating: 100%|██████████| 13/13 [00:06<00:00,  2.11it/s]\n"
     ]
    },
    {
     "name": "stdout",
     "output_type": "stream",
     "text": [
      "Epoch: 24/30.. Training Loss: 0.016178.. Validation Loss: 0.013966\n",
      "loss decreased from 0.015321 to 0.013966 -> saving best model.\n"
     ]
    },
    {
     "name": "stderr",
     "output_type": "stream",
     "text": [
      "Training: 100%|██████████| 94/94 [00:47<00:00,  1.97it/s]\n",
      "Validating: 100%|██████████| 13/13 [00:06<00:00,  2.00it/s]\n"
     ]
    },
    {
     "name": "stdout",
     "output_type": "stream",
     "text": [
      "Epoch: 25/30.. Training Loss: 0.016922.. Validation Loss: 0.024898\n"
     ]
    },
    {
     "name": "stderr",
     "output_type": "stream",
     "text": [
      "Training: 100%|██████████| 94/94 [00:48<00:00,  1.95it/s]\n",
      "Validating: 100%|██████████| 13/13 [00:05<00:00,  2.21it/s]\n"
     ]
    },
    {
     "name": "stdout",
     "output_type": "stream",
     "text": [
      "Epoch: 26/30.. Training Loss: 0.015914.. Validation Loss: 0.013544\n",
      "loss decreased from 0.013966 to 0.013544 -> saving best model.\n"
     ]
    },
    {
     "name": "stderr",
     "output_type": "stream",
     "text": [
      "Training: 100%|██████████| 94/94 [00:48<00:00,  1.93it/s]\n",
      "Validating: 100%|██████████| 13/13 [00:05<00:00,  2.23it/s]\n"
     ]
    },
    {
     "name": "stdout",
     "output_type": "stream",
     "text": [
      "Epoch: 27/30.. Training Loss: 0.014379.. Validation Loss: 0.015382\n"
     ]
    },
    {
     "name": "stderr",
     "output_type": "stream",
     "text": [
      "Training: 100%|██████████| 94/94 [00:48<00:00,  1.93it/s]\n",
      "Validating: 100%|██████████| 13/13 [00:06<00:00,  2.08it/s]\n"
     ]
    },
    {
     "name": "stdout",
     "output_type": "stream",
     "text": [
      "Epoch: 28/30.. Training Loss: 0.016358.. Validation Loss: 0.014240\n"
     ]
    },
    {
     "name": "stderr",
     "output_type": "stream",
     "text": [
      "Training: 100%|██████████| 94/94 [00:47<00:00,  1.96it/s]\n",
      "Validating: 100%|██████████| 13/13 [00:05<00:00,  2.18it/s]\n"
     ]
    },
    {
     "name": "stdout",
     "output_type": "stream",
     "text": [
      "Epoch: 29/30.. Training Loss: 0.014569.. Validation Loss: 0.016924\n"
     ]
    },
    {
     "name": "stderr",
     "output_type": "stream",
     "text": [
      "Training: 100%|██████████| 94/94 [00:48<00:00,  1.93it/s]\n",
      "Validating: 100%|██████████| 13/13 [00:06<00:00,  2.04it/s]\n"
     ]
    },
    {
     "name": "stdout",
     "output_type": "stream",
     "text": [
      "Epoch: 30/30.. Training Loss: 0.014886.. Validation Loss: 0.015415\n",
      "Training on cuda...\n"
     ]
    },
    {
     "name": "stderr",
     "output_type": "stream",
     "text": [
      "Training: 100%|██████████| 94/94 [00:46<00:00,  2.02it/s]\n",
      "Validating: 100%|██████████| 13/13 [00:06<00:00,  2.15it/s]\n"
     ]
    },
    {
     "name": "stdout",
     "output_type": "stream",
     "text": [
      "Epoch: 1/30.. Training Loss: 0.168979.. Validation Loss: 0.087679\n",
      "loss decreased from inf to 0.087679 -> saving best model.\n"
     ]
    },
    {
     "name": "stderr",
     "output_type": "stream",
     "text": [
      "Training: 100%|██████████| 94/94 [00:46<00:00,  2.04it/s]\n",
      "Validating: 100%|██████████| 13/13 [00:05<00:00,  2.30it/s]\n"
     ]
    },
    {
     "name": "stdout",
     "output_type": "stream",
     "text": [
      "Epoch: 2/30.. Training Loss: 0.031277.. Validation Loss: 0.028566\n",
      "loss decreased from 0.087679 to 0.028566 -> saving best model.\n"
     ]
    },
    {
     "name": "stderr",
     "output_type": "stream",
     "text": [
      "Training: 100%|██████████| 94/94 [00:46<00:00,  2.03it/s]\n",
      "Validating: 100%|██████████| 13/13 [00:05<00:00,  2.26it/s]\n"
     ]
    },
    {
     "name": "stdout",
     "output_type": "stream",
     "text": [
      "Epoch: 3/30.. Training Loss: 0.027674.. Validation Loss: 0.022919\n",
      "loss decreased from 0.028566 to 0.022919 -> saving best model.\n"
     ]
    },
    {
     "name": "stderr",
     "output_type": "stream",
     "text": [
      "Training: 100%|██████████| 94/94 [00:46<00:00,  2.04it/s]\n",
      "Validating: 100%|██████████| 13/13 [00:05<00:00,  2.17it/s]\n"
     ]
    },
    {
     "name": "stdout",
     "output_type": "stream",
     "text": [
      "Epoch: 4/30.. Training Loss: 0.024487.. Validation Loss: 0.020237\n",
      "loss decreased from 0.022919 to 0.020237 -> saving best model.\n"
     ]
    },
    {
     "name": "stderr",
     "output_type": "stream",
     "text": [
      "Training: 100%|██████████| 94/94 [00:45<00:00,  2.06it/s]\n",
      "Validating: 100%|██████████| 13/13 [00:05<00:00,  2.22it/s]\n"
     ]
    },
    {
     "name": "stdout",
     "output_type": "stream",
     "text": [
      "Epoch: 5/30.. Training Loss: 0.023586.. Validation Loss: 0.026791\n"
     ]
    },
    {
     "name": "stderr",
     "output_type": "stream",
     "text": [
      "Training: 100%|██████████| 94/94 [00:45<00:00,  2.05it/s]\n",
      "Validating: 100%|██████████| 13/13 [00:05<00:00,  2.23it/s]\n"
     ]
    },
    {
     "name": "stdout",
     "output_type": "stream",
     "text": [
      "Epoch: 6/30.. Training Loss: 0.020839.. Validation Loss: 0.035884\n"
     ]
    },
    {
     "name": "stderr",
     "output_type": "stream",
     "text": [
      "Training: 100%|██████████| 94/94 [00:46<00:00,  2.04it/s]\n",
      "Validating: 100%|██████████| 13/13 [00:05<00:00,  2.17it/s]\n"
     ]
    },
    {
     "name": "stdout",
     "output_type": "stream",
     "text": [
      "Epoch: 7/30.. Training Loss: 0.020860.. Validation Loss: 0.030905\n"
     ]
    },
    {
     "name": "stderr",
     "output_type": "stream",
     "text": [
      "Training: 100%|██████████| 94/94 [00:46<00:00,  2.01it/s]\n",
      "Validating: 100%|██████████| 13/13 [00:05<00:00,  2.35it/s]\n"
     ]
    },
    {
     "name": "stdout",
     "output_type": "stream",
     "text": [
      "Epoch: 8/30.. Training Loss: 0.019740.. Validation Loss: 0.032026\n"
     ]
    },
    {
     "name": "stderr",
     "output_type": "stream",
     "text": [
      "Training: 100%|██████████| 94/94 [00:46<00:00,  2.04it/s]\n",
      "Validating: 100%|██████████| 13/13 [00:05<00:00,  2.30it/s]\n"
     ]
    },
    {
     "name": "stdout",
     "output_type": "stream",
     "text": [
      "Epoch: 9/30.. Training Loss: 0.017531.. Validation Loss: 0.016644\n",
      "loss decreased from 0.020237 to 0.016644 -> saving best model.\n"
     ]
    },
    {
     "name": "stderr",
     "output_type": "stream",
     "text": [
      "Training: 100%|██████████| 94/94 [00:45<00:00,  2.06it/s]\n",
      "Validating: 100%|██████████| 13/13 [00:05<00:00,  2.27it/s]\n"
     ]
    },
    {
     "name": "stdout",
     "output_type": "stream",
     "text": [
      "Epoch: 10/30.. Training Loss: 0.018613.. Validation Loss: 0.021332\n"
     ]
    },
    {
     "name": "stderr",
     "output_type": "stream",
     "text": [
      "Training: 100%|██████████| 94/94 [00:46<00:00,  2.01it/s]\n",
      "Validating: 100%|██████████| 13/13 [00:05<00:00,  2.23it/s]\n"
     ]
    },
    {
     "name": "stdout",
     "output_type": "stream",
     "text": [
      "Epoch: 11/30.. Training Loss: 0.015897.. Validation Loss: 0.026918\n"
     ]
    },
    {
     "name": "stderr",
     "output_type": "stream",
     "text": [
      "Training: 100%|██████████| 94/94 [00:46<00:00,  2.04it/s]\n",
      "Validating: 100%|██████████| 13/13 [00:05<00:00,  2.26it/s]\n"
     ]
    },
    {
     "name": "stdout",
     "output_type": "stream",
     "text": [
      "Epoch: 12/30.. Training Loss: 0.017177.. Validation Loss: 0.034619\n"
     ]
    },
    {
     "name": "stderr",
     "output_type": "stream",
     "text": [
      "Training: 100%|██████████| 94/94 [00:46<00:00,  2.04it/s]\n",
      "Validating: 100%|██████████| 13/13 [00:05<00:00,  2.33it/s]\n"
     ]
    },
    {
     "name": "stdout",
     "output_type": "stream",
     "text": [
      "Epoch: 13/30.. Training Loss: 0.015569.. Validation Loss: 0.021215\n"
     ]
    },
    {
     "name": "stderr",
     "output_type": "stream",
     "text": [
      "Training: 100%|██████████| 94/94 [00:46<00:00,  2.04it/s]\n",
      "Validating: 100%|██████████| 13/13 [00:05<00:00,  2.27it/s]\n"
     ]
    },
    {
     "name": "stdout",
     "output_type": "stream",
     "text": [
      "Epoch: 14/30.. Training Loss: 0.016032.. Validation Loss: 0.014537\n",
      "loss decreased from 0.016644 to 0.014537 -> saving best model.\n"
     ]
    },
    {
     "name": "stderr",
     "output_type": "stream",
     "text": [
      "Training: 100%|██████████| 94/94 [00:45<00:00,  2.08it/s]\n",
      "Validating: 100%|██████████| 13/13 [00:05<00:00,  2.35it/s]\n"
     ]
    },
    {
     "name": "stdout",
     "output_type": "stream",
     "text": [
      "Epoch: 15/30.. Training Loss: 0.014468.. Validation Loss: 0.013536\n",
      "loss decreased from 0.014537 to 0.013536 -> saving best model.\n"
     ]
    },
    {
     "name": "stderr",
     "output_type": "stream",
     "text": [
      "Training: 100%|██████████| 94/94 [00:44<00:00,  2.10it/s]\n",
      "Validating: 100%|██████████| 13/13 [00:05<00:00,  2.32it/s]\n"
     ]
    },
    {
     "name": "stdout",
     "output_type": "stream",
     "text": [
      "Epoch: 16/30.. Training Loss: 0.015963.. Validation Loss: 0.013911\n"
     ]
    },
    {
     "name": "stderr",
     "output_type": "stream",
     "text": [
      "Training: 100%|██████████| 94/94 [00:44<00:00,  2.10it/s]\n",
      "Validating: 100%|██████████| 13/13 [00:05<00:00,  2.34it/s]\n"
     ]
    },
    {
     "name": "stdout",
     "output_type": "stream",
     "text": [
      "Epoch: 17/30.. Training Loss: 0.014749.. Validation Loss: 0.012616\n",
      "loss decreased from 0.013536 to 0.012616 -> saving best model.\n"
     ]
    },
    {
     "name": "stderr",
     "output_type": "stream",
     "text": [
      "Training: 100%|██████████| 94/94 [00:44<00:00,  2.10it/s]\n",
      "Validating: 100%|██████████| 13/13 [00:05<00:00,  2.35it/s]\n"
     ]
    },
    {
     "name": "stdout",
     "output_type": "stream",
     "text": [
      "Epoch: 18/30.. Training Loss: 0.014088.. Validation Loss: 0.014000\n"
     ]
    },
    {
     "name": "stderr",
     "output_type": "stream",
     "text": [
      "Training: 100%|██████████| 94/94 [00:44<00:00,  2.10it/s]\n",
      "Validating: 100%|██████████| 13/13 [00:05<00:00,  2.36it/s]\n"
     ]
    },
    {
     "name": "stdout",
     "output_type": "stream",
     "text": [
      "Epoch: 19/30.. Training Loss: 0.012681.. Validation Loss: 0.014638\n"
     ]
    },
    {
     "name": "stderr",
     "output_type": "stream",
     "text": [
      "Training: 100%|██████████| 94/94 [00:44<00:00,  2.11it/s]\n",
      "Validating: 100%|██████████| 13/13 [00:05<00:00,  2.31it/s]\n"
     ]
    },
    {
     "name": "stdout",
     "output_type": "stream",
     "text": [
      "Epoch: 20/30.. Training Loss: 0.012281.. Validation Loss: 0.018703\n"
     ]
    },
    {
     "name": "stderr",
     "output_type": "stream",
     "text": [
      "Training: 100%|██████████| 94/94 [00:44<00:00,  2.11it/s]\n",
      "Validating: 100%|██████████| 13/13 [00:05<00:00,  2.32it/s]\n"
     ]
    },
    {
     "name": "stdout",
     "output_type": "stream",
     "text": [
      "Epoch: 21/30.. Training Loss: 0.012310.. Validation Loss: 0.013397\n"
     ]
    },
    {
     "name": "stderr",
     "output_type": "stream",
     "text": [
      "Training: 100%|██████████| 94/94 [00:44<00:00,  2.11it/s]\n",
      "Validating: 100%|██████████| 13/13 [00:06<00:00,  2.11it/s]\n"
     ]
    },
    {
     "name": "stdout",
     "output_type": "stream",
     "text": [
      "Epoch: 22/30.. Training Loss: 0.013133.. Validation Loss: 0.015456\n"
     ]
    },
    {
     "name": "stderr",
     "output_type": "stream",
     "text": [
      "Training: 100%|██████████| 94/94 [00:45<00:00,  2.06it/s]\n",
      "Validating: 100%|██████████| 13/13 [00:05<00:00,  2.36it/s]\n"
     ]
    },
    {
     "name": "stdout",
     "output_type": "stream",
     "text": [
      "Epoch: 23/30.. Training Loss: 0.011829.. Validation Loss: 0.018364\n"
     ]
    },
    {
     "name": "stderr",
     "output_type": "stream",
     "text": [
      "Training: 100%|██████████| 94/94 [00:44<00:00,  2.09it/s]\n",
      "Validating: 100%|██████████| 13/13 [00:05<00:00,  2.33it/s]\n"
     ]
    },
    {
     "name": "stdout",
     "output_type": "stream",
     "text": [
      "Epoch: 24/30.. Training Loss: 0.012033.. Validation Loss: 0.017155\n"
     ]
    },
    {
     "name": "stderr",
     "output_type": "stream",
     "text": [
      "Training: 100%|██████████| 94/94 [00:45<00:00,  2.06it/s]\n",
      "Validating: 100%|██████████| 13/13 [00:05<00:00,  2.24it/s]\n"
     ]
    },
    {
     "name": "stdout",
     "output_type": "stream",
     "text": [
      "Epoch: 25/30.. Training Loss: 0.012583.. Validation Loss: 0.013550\n"
     ]
    },
    {
     "name": "stderr",
     "output_type": "stream",
     "text": [
      "Training: 100%|██████████| 94/94 [00:45<00:00,  2.09it/s]\n",
      "Validating: 100%|██████████| 13/13 [00:05<00:00,  2.27it/s]\n"
     ]
    },
    {
     "name": "stdout",
     "output_type": "stream",
     "text": [
      "Epoch: 26/30.. Training Loss: 0.012300.. Validation Loss: 0.016804\n"
     ]
    },
    {
     "name": "stderr",
     "output_type": "stream",
     "text": [
      "Training: 100%|██████████| 94/94 [00:44<00:00,  2.10it/s]\n",
      "Validating: 100%|██████████| 13/13 [00:05<00:00,  2.35it/s]\n"
     ]
    },
    {
     "name": "stdout",
     "output_type": "stream",
     "text": [
      "Epoch: 27/30.. Training Loss: 0.012195.. Validation Loss: 0.013346\n"
     ]
    },
    {
     "name": "stderr",
     "output_type": "stream",
     "text": [
      "Training: 100%|██████████| 94/94 [00:44<00:00,  2.10it/s]\n",
      "Validating: 100%|██████████| 13/13 [00:05<00:00,  2.33it/s]\n"
     ]
    },
    {
     "name": "stdout",
     "output_type": "stream",
     "text": [
      "Epoch: 28/30.. Training Loss: 0.011281.. Validation Loss: 0.010015\n",
      "loss decreased from 0.012616 to 0.010015 -> saving best model.\n"
     ]
    },
    {
     "name": "stderr",
     "output_type": "stream",
     "text": [
      "Training: 100%|██████████| 94/94 [00:44<00:00,  2.11it/s]\n",
      "Validating: 100%|██████████| 13/13 [00:05<00:00,  2.30it/s]\n"
     ]
    },
    {
     "name": "stdout",
     "output_type": "stream",
     "text": [
      "Epoch: 29/30.. Training Loss: 0.011449.. Validation Loss: 0.011147\n"
     ]
    },
    {
     "name": "stderr",
     "output_type": "stream",
     "text": [
      "Training: 100%|██████████| 94/94 [00:44<00:00,  2.11it/s]\n",
      "Validating: 100%|██████████| 13/13 [00:05<00:00,  2.28it/s]\n"
     ]
    },
    {
     "name": "stdout",
     "output_type": "stream",
     "text": [
      "Epoch: 30/30.. Training Loss: 0.010587.. Validation Loss: 0.009579\n",
      "loss decreased from 0.010015 to 0.009579 -> saving best model.\n"
     ]
    }
   ],
   "source": [
    "from torch.optim.lr_scheduler import ExponentialLR\n",
    "\n",
    "from criterions import DepthLoss\n",
    "\n",
    "models = [DepthNet(4, use_transpose_conv=False), DepthNet(4, use_transpose_conv=True)]\n",
    "criterion = DepthLoss()\n",
    "\n",
    "inputs = {\n",
    "    \"criterion\": criterion,\n",
    "    \"trainloader\": trainloader,\n",
    "    \"validloader\": validloader,\n",
    "    \"epochs\": 30,\n",
    "    \"device\": \"cuda\",\n",
    "    \"verbose\": False,\n",
    "    \"training_losses\": [0] * 30,\n",
    "    \"validation_losses\": [0] * 30,\n",
    "    # \"pretrained_model\":\"best_model_log_mse.pth\"\n",
    "}\n",
    "\n",
    "train_losses_matrix = np.zeros((len(models), 30))\n",
    "valid_losses_matrix = np.zeros((len(models), 30))\n",
    "\n",
    "for idx, model in enumerate(models):\n",
    "    inputs[\"model\"] = model\n",
    "    inputs['optimizer'] = Adam(model.parameters(), lr=1e-3)\n",
    "    inputs['scheduler'] = ExponentialLR(inputs['optimizer'], gamma=0.99)\n",
    "    \n",
    "    train(**inputs)\n",
    "    \n",
    "    train_losses_matrix[idx, :] = inputs[\"training_losses\"]\n",
    "    valid_losses_matrix[idx, :] = inputs[\"validation_losses\"]"
   ]
  },
  {
   "cell_type": "code",
   "execution_count": 13,
   "metadata": {},
   "outputs": [
    {
     "data": {
      "image/png": "[encoded data removed]",
      "text/plain": [
       "<Figure size 432x288 with 1 Axes>"
      ]
     },
     "metadata": {
      "needs_background": "light"
     },
     "output_type": "display_data"
    }
   ],
   "source": [
    "import matplotlib.pyplot as plt\n",
    "# plot training and validation losses of using transpose convolution vs not using transpose convolution\n",
    "# plt.plot(smooth_loss(train_losses_matrix[0, :]), label=\"Training Loss (without transpose convolution)\")\n",
    "plt.plot(smooth_loss(valid_losses_matrix[0, :]), label=\"Validation Loss (without transpose convolution)\")\n",
    "# plt.plot(smooth_loss(train_losses_matrix[1, :]), label=\"Training Loss (with transpose convolution)\")\n",
    "plt.plot(smooth_loss(valid_losses_matrix[1, :]), label=\"Validation Loss (with transpose convolution)\")\n",
    "plt.xlabel(\"Epochs\")\n",
    "plt.ylabel(\"Loss\")\n",
    "plt.title(\"Validation Loss\")\n",
    "plt.legend()\n",
    "plt.savefig(\"material/validation_loss_transpose_conv_vs_upsampling.png\", dpi=1000)\n",
    "plt.show()"
   ]
  },
  {
   "cell_type": "code",
   "execution_count": null,
   "metadata": {},
   "outputs": [],
   "source": []
  }
 ],
 "metadata": {
  "kernelspec": {
   "display_name": "deepenv",
   "language": "python",
   "name": "python3"
  },
  "language_info": {
   "codemirror_mode": {
    "name": "ipython",
    "version": 3
   },
   "file_extension": ".py",
   "mimetype": "text/x-python",
   "name": "python",
   "nbconvert_exporter": "python",
   "pygments_lexer": "ipython3",
   "version": "3.9.7"
  }
 },
 "nbformat": 4,
 "nbformat_minor": 2
}
